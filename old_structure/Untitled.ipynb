{
 "cells": [
  {
   "cell_type": "code",
   "execution_count": 3,
   "id": "23c26c89",
   "metadata": {},
   "outputs": [
    {
     "ename": "ModuleNotFoundError",
     "evalue": "No module named 'cv2'",
     "output_type": "error",
     "traceback": [
      "\u001b[0;31m---------------------------------------------------------------------------\u001b[0m",
      "\u001b[0;31mModuleNotFoundError\u001b[0m                       Traceback (most recent call last)",
      "Cell \u001b[0;32mIn[3], line 1\u001b[0m\n\u001b[0;32m----> 1\u001b[0m \u001b[38;5;28;01mimport\u001b[39;00m \u001b[38;5;21;01mcv2\u001b[39;00m\n\u001b[1;32m      2\u001b[0m \u001b[38;5;28;01mimport\u001b[39;00m \u001b[38;5;21;01mnumpy\u001b[39;00m \u001b[38;5;28;01mas\u001b[39;00m \u001b[38;5;21;01mnp\u001b[39;00m\n\u001b[1;32m      4\u001b[0m \u001b[38;5;66;03m# Load the image\u001b[39;00m\n",
      "\u001b[0;31mModuleNotFoundError\u001b[0m: No module named 'cv2'"
     ]
    }
   ],
   "source": [
    "import cv2\n",
    "import numpy as np\n",
    "\n",
    "# Load the image\n",
    "image = cv2.imread('Screenshots/Real_parts/10_00_0125_0084a_v4a/test_0_0_0.jpg')\n",
    "\n",
    "# Convert the image to grayscale\n",
    "gray = cv2.cvtColor(image, cv2.COLOR_BGR2GRAY)\n",
    "\n",
    "# Apply Gaussian blur to reduce noise and improve contour detection\n",
    "blurred = cv2.GaussianBlur(gray, (5, 5), 0)\n",
    "\n",
    "# Use thresholding to create a binary image\n",
    "_, thresh = cv2.threshold(blurred, 100, 255, cv2.THRESH_BINARY)\n",
    "\n",
    "# Find contours in the binary image\n",
    "contours, _ = cv2.findContours(thresh, cv2.RETR_EXTERNAL, cv2.CHAIN_APPROX_SIMPLE)\n",
    "\n",
    "# Create a copy of the image for drawing bounding boxes\n",
    "result_image = image.copy()\n",
    "\n",
    "# List to store bounding box coordinates\n",
    "bounding_boxes = []\n",
    "\n",
    "# Iterate over the detected contours and draw bounding boxes\n",
    "for contour in contours:\n",
    "    x, y, w, h = cv2.boundingRect(contour)\n",
    "    bounding_boxes.append((x, y, x + w, y + h))  # Store the coordinates\n",
    "    cv2.rectangle(result_image, (x, y), (x + w, y + h), (0, 255, 0), 2)\n",
    "\n",
    "# Display or save the image with bounding boxes\n",
    "cv2.imshow('Bounding Boxes', result_image)\n",
    "cv2.waitKey(0)\n",
    "cv2.destroyAllWindows()\n",
    "\n",
    "# Save the result image\n",
    "cv2.imwrite('result_image.jpg', result_image)\n",
    "\n",
    "# Print the coordinates of the bounding boxes\n",
    "for i, (x1, y1, x2, y2) in enumerate(bounding_boxes):\n",
    "    print(f\"Bounding Box {i + 1}: (x1, y1, x2, y2) = ({x1}, {y1}, {x2}, {y2})\")\n"
   ]
  },
  {
   "cell_type": "code",
   "execution_count": null,
   "id": "62c73542",
   "metadata": {},
   "outputs": [],
   "source": []
  }
 ],
 "metadata": {
  "kernelspec": {
   "display_name": "Python 3 (ipykernel)",
   "language": "python",
   "name": "python3"
  },
  "language_info": {
   "codemirror_mode": {
    "name": "ipython",
    "version": 3
   },
   "file_extension": ".py",
   "mimetype": "text/x-python",
   "name": "python",
   "nbconvert_exporter": "python",
   "pygments_lexer": "ipython3",
   "version": "3.11.3"
  }
 },
 "nbformat": 4,
 "nbformat_minor": 5
}
