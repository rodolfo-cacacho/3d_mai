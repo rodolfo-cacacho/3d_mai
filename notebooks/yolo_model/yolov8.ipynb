{
 "cells": [
  {
   "cell_type": "markdown",
   "id": "d58ef458-7557-49bb-ac78-c65fbd327f71",
   "metadata": {},
   "source": [
    "# Notebook for training the YOLOv8 model"
   ]
  },
  {
   "cell_type": "code",
   "execution_count": 1,
   "id": "3e54f8e2-60bc-4365-90da-c6e8f845fe66",
   "metadata": {},
   "outputs": [],
   "source": [
    "import torch\n",
    "from IPython.display import Image  # for displaying images\n",
    "import os \n",
    "import random\n",
    "import shutil\n",
    "from sklearn.model_selection import train_test_split\n",
    "import xml.etree.ElementTree as ET\n",
    "from xml.dom import minidom\n",
    "from tqdm import tqdm\n",
    "from PIL import Image, ImageDraw\n",
    "import numpy as np\n",
    "import matplotlib.pyplot as plt\n",
    "\n",
    "random.seed(108)"
   ]
  },
  {
   "cell_type": "code",
   "execution_count": 3,
   "id": "6016aac8-7af7-48ca-9ce9-ba2257d46193",
   "metadata": {},
   "outputs": [],
   "source": [
    "DATA_PATH = \"/Users/mariusoechslein/Documents/MyDocuments/Studium/Master/3d-parts-project/3d_mai/\"\n",
    "TRAINING_IMAGES_PATH = DATA_PATH + \"data/train/images/\"\n",
    "TRAINING_LABELS_PATH = DATA_PATH + \"data/train/labels/\""
   ]
  },
  {
   "cell_type": "code",
   "execution_count": 8,
   "id": "f2ff36ee-3e52-4cdc-970f-f416b54569e7",
   "metadata": {},
   "outputs": [],
   "source": [
    "# Read images and annotations\n",
    "images = [TRAINING_IMAGES_PATH + x for x in os.listdir(TRAINING_IMAGES_PATH) if x[-3:] == \"jpg\"]\n",
    "annotations = [TRAINING_LABELS_PATH + x for x in os.listdir(TRAINING_LABELS_PATH) if x[-3:] == \"txt\"]\n",
    "\n",
    "images.sort()\n",
    "annotations.sort()\n",
    "\n",
    "# Split the dataset into train-valid-test splits \n",
    "train_images, val_images, train_labels, val_labels = train_test_split(images, annotations, test_size = 0.2, random_state = 1)\n",
    "#val_images, test_images, val_labels, test_labels = train_test_split(val_images, val_annotations, test_size = 0.5, random_state = 1)"
   ]
  },
  {
   "cell_type": "code",
   "execution_count": 9,
   "id": "39270dc1-ec0f-4811-b507-02450102b8b2",
   "metadata": {},
   "outputs": [
    {
     "data": {
      "text/plain": [
       "['/Users/mariusoechslein/Documents/MyDocuments/Studium/Master/3d-parts-project/3d_mai/data/train/images/210216-4x20|_3_6_7.jpg',\n",
       " '/Users/mariusoechslein/Documents/MyDocuments/Studium/Master/3d-parts-project/3d_mai/data/train/images/210216-4x10|_6_2_3.jpg',\n",
       " '/Users/mariusoechslein/Documents/MyDocuments/Studium/Master/3d-parts-project/3d_mai/data/train/images/210216-4x10|_7_7_4.jpg',\n",
       " '/Users/mariusoechslein/Documents/MyDocuments/Studium/Master/3d-parts-project/3d_mai/data/train/images/dst4|_0_7_0.jpg',\n",
       " '/Users/mariusoechslein/Documents/MyDocuments/Studium/Master/3d-parts-project/3d_mai/data/train/images/210216-4x20|_2_4_2.jpg']"
      ]
     },
     "execution_count": 9,
     "metadata": {},
     "output_type": "execute_result"
    }
   ],
   "source": [
    "train_images[:5]"
   ]
  },
  {
   "cell_type": "markdown",
   "id": "98b40c06-ef6d-4599-b859-fe19b89d099e",
   "metadata": {},
   "source": [
    "# Train the model"
   ]
  },
  {
   "cell_type": "code",
   "execution_count": 10,
   "id": "ee3cde80-e0a1-49cb-a3c9-dcab1dd19794",
   "metadata": {},
   "outputs": [
    {
     "name": "stderr",
     "output_type": "stream",
     "text": [
      "Downloading https://github.com/ultralytics/assets/releases/download/v0.0.0/yolov8n.pt to 'yolov8n.pt'...\n",
      "⚠️ Download failure, retrying 1/3 https://github.com/ultralytics/assets/releases/download/v0.0.0/yolov8n.pt...\n",
      "######################################################################## 100.0%\n",
      "New https://pypi.org/project/ultralytics/8.0.199 available 😃 Update with 'pip install -U ultralytics'\n",
      "Ultralytics YOLOv8.0.195 🚀 Python-3.11.5 torch-2.0.1 CPU (Intel Core(TM) i5-7360U 2.30GHz)\n",
      "\u001b[34m\u001b[1mengine/trainer: \u001b[0mtask=detect, mode=train, model=yolov8n.pt, data=config.yaml, epochs=3, patience=50, batch=16, imgsz=640, save=True, save_period=-1, cache=False, device=None, workers=8, project=None, name=None, exist_ok=False, pretrained=True, optimizer=auto, verbose=True, seed=0, deterministic=True, single_cls=False, rect=False, cos_lr=False, close_mosaic=10, resume=False, amp=True, fraction=1.0, profile=False, freeze=None, overlap_mask=True, mask_ratio=4, dropout=0.0, val=True, split=val, save_json=False, save_hybrid=False, conf=None, iou=0.7, max_det=300, half=False, dnn=False, plots=True, source=None, show=False, save_txt=False, save_conf=False, save_crop=False, show_labels=True, show_conf=True, vid_stride=1, stream_buffer=False, line_width=None, visualize=False, augment=False, agnostic_nms=False, classes=None, retina_masks=False, boxes=True, format=torchscript, keras=False, optimize=False, int8=False, dynamic=False, simplify=False, opset=None, workspace=4, nms=False, lr0=0.01, lrf=0.01, momentum=0.937, weight_decay=0.0005, warmup_epochs=3.0, warmup_momentum=0.8, warmup_bias_lr=0.1, box=7.5, cls=0.5, dfl=1.5, pose=12.0, kobj=1.0, label_smoothing=0.0, nbs=64, hsv_h=0.015, hsv_s=0.7, hsv_v=0.4, degrees=0.0, translate=0.1, scale=0.5, shear=0.0, perspective=0.0, flipud=0.0, fliplr=0.5, mosaic=1.0, mixup=0.0, copy_paste=0.0, cfg=None, tracker=botsort.yaml, save_dir=runs/detect/train8\n",
      "Overriding model.yaml nc=80 with nc=4\n",
      "\n",
      "                   from  n    params  module                                       arguments                     \n",
      "  0                  -1  1       464  ultralytics.nn.modules.conv.Conv             [3, 16, 3, 2]                 \n",
      "  1                  -1  1      4672  ultralytics.nn.modules.conv.Conv             [16, 32, 3, 2]                \n",
      "  2                  -1  1      7360  ultralytics.nn.modules.block.C2f             [32, 32, 1, True]             \n",
      "  3                  -1  1     18560  ultralytics.nn.modules.conv.Conv             [32, 64, 3, 2]                \n",
      "  4                  -1  2     49664  ultralytics.nn.modules.block.C2f             [64, 64, 2, True]             \n",
      "  5                  -1  1     73984  ultralytics.nn.modules.conv.Conv             [64, 128, 3, 2]               \n",
      "  6                  -1  2    197632  ultralytics.nn.modules.block.C2f             [128, 128, 2, True]           \n",
      "  7                  -1  1    295424  ultralytics.nn.modules.conv.Conv             [128, 256, 3, 2]              \n",
      "  8                  -1  1    460288  ultralytics.nn.modules.block.C2f             [256, 256, 1, True]           \n",
      "  9                  -1  1    164608  ultralytics.nn.modules.block.SPPF            [256, 256, 5]                 \n",
      " 10                  -1  1         0  torch.nn.modules.upsampling.Upsample         [None, 2, 'nearest']          \n",
      " 11             [-1, 6]  1         0  ultralytics.nn.modules.conv.Concat           [1]                           \n",
      " 12                  -1  1    148224  ultralytics.nn.modules.block.C2f             [384, 128, 1]                 \n",
      " 13                  -1  1         0  torch.nn.modules.upsampling.Upsample         [None, 2, 'nearest']          \n",
      " 14             [-1, 4]  1         0  ultralytics.nn.modules.conv.Concat           [1]                           \n",
      " 15                  -1  1     37248  ultralytics.nn.modules.block.C2f             [192, 64, 1]                  \n",
      " 16                  -1  1     36992  ultralytics.nn.modules.conv.Conv             [64, 64, 3, 2]                \n",
      " 17            [-1, 12]  1         0  ultralytics.nn.modules.conv.Concat           [1]                           \n",
      " 18                  -1  1    123648  ultralytics.nn.modules.block.C2f             [192, 128, 1]                 \n",
      " 19                  -1  1    147712  ultralytics.nn.modules.conv.Conv             [128, 128, 3, 2]              \n",
      " 20             [-1, 9]  1         0  ultralytics.nn.modules.conv.Concat           [1]                           \n",
      " 21                  -1  1    493056  ultralytics.nn.modules.block.C2f             [384, 256, 1]                 \n",
      " 22        [15, 18, 21]  1    752092  ultralytics.nn.modules.head.Detect           [4, [64, 128, 256]]           \n",
      "Model summary: 225 layers, 3011628 parameters, 3011612 gradients, 8.2 GFLOPs\n",
      "\n",
      "Transferred 319/355 items from pretrained weights\n",
      "Freezing layer 'model.22.dfl.conv.weight'\n",
      "\u001b[34m\u001b[1mtrain: \u001b[0mScanning /Users/mariusoechslein/Documents/MyDocuments/Studium/Master/3d-p\u001b[0m\n",
      "\u001b[34m\u001b[1mtrain: \u001b[0mNew cache created: /Users/mariusoechslein/Documents/MyDocuments/Studium/Master/3d-parts-project/3d_mai/data/train/labels.cache\n",
      "\u001b[34m\u001b[1mval: \u001b[0mScanning /Users/mariusoechslein/Documents/MyDocuments/Studium/Master/3d-par\u001b[0m\n",
      "\u001b[34m\u001b[1mval: \u001b[0mNew cache created: /Users/mariusoechslein/Documents/MyDocuments/Studium/Master/3d-parts-project/3d_mai/data/val/labels.cache\n",
      "Plotting labels to runs/detect/train8/labels.jpg... \n",
      "\u001b[34m\u001b[1moptimizer:\u001b[0m 'optimizer=auto' found, ignoring 'lr0=0.01' and 'momentum=0.937' and determining best 'optimizer', 'lr0' and 'momentum' automatically... \n",
      "\u001b[34m\u001b[1moptimizer:\u001b[0m AdamW(lr=0.00125, momentum=0.9) with parameter groups 57 weight(decay=0.0), 64 weight(decay=0.0005), 63 bias(decay=0.0)\n",
      "Image sizes 640 train, 640 val\n",
      "Using 0 dataloader workers\n",
      "Logging results to \u001b[1mruns/detect/train8\u001b[0m\n",
      "Starting training for 3 epochs...\n",
      "\n",
      "      Epoch    GPU_mem   box_loss   cls_loss   dfl_loss  Instances       Size\n",
      "        1/3         0G     0.5111      1.916      1.004         38        640: 1\n",
      "                 Class     Images  Instances      Box(P          R      mAP50  m\n",
      "                   all         32         32      0.665      0.768      0.838      0.725\n",
      "\n",
      "      Epoch    GPU_mem   box_loss   cls_loss   dfl_loss  Instances       Size\n",
      "        2/3         0G     0.4721      1.084     0.9671         43        640: 1\n",
      "                 Class     Images  Instances      Box(P          R      mAP50  m\n",
      "                   all         32         32      0.892      0.963      0.979      0.945\n",
      "\n",
      "      Epoch    GPU_mem   box_loss   cls_loss   dfl_loss  Instances       Size\n",
      "        3/3         0G     0.4019     0.8374     0.9273         35        640: 1\n",
      "                 Class     Images  Instances      Box(P          R      mAP50  m\n",
      "                   all         32         32      0.978      0.991      0.995      0.989\n",
      "\n",
      "3 epochs completed in 0.997 hours.\n",
      "Optimizer stripped from runs/detect/train8/weights/last.pt, 6.2MB\n",
      "Optimizer stripped from runs/detect/train8/weights/best.pt, 6.2MB\n",
      "\n",
      "Validating runs/detect/train8/weights/best.pt...\n",
      "Ultralytics YOLOv8.0.195 🚀 Python-3.11.5 torch-2.0.1 CPU (Intel Core(TM) i5-7360U 2.30GHz)\n",
      "Model summary (fused): 168 layers, 3006428 parameters, 0 gradients, 8.1 GFLOPs\n",
      "                 Class     Images  Instances      Box(P          R      mAP50  m\n",
      "                   all         32         32      0.978      0.988      0.995      0.989\n",
      "  10_00_0125_0084a_v4a         32          8          1      0.954      0.995      0.971\n",
      "                  dst4         32          8      0.946          1      0.995      0.995\n",
      "           210216-4x20         32          8          1      0.997      0.995      0.995\n",
      "           210216-4x10         32          8      0.968          1      0.995      0.995\n",
      "Speed: 2.0ms preprocess, 97.3ms inference, 0.0ms loss, 1.0ms postprocess per image\n",
      "Results saved to \u001b[1mruns/detect/train8\u001b[0m\n",
      "Ultralytics YOLOv8.0.195 🚀 Python-3.11.5 torch-2.0.1 CPU (Intel Core(TM) i5-7360U 2.30GHz)\n",
      "Model summary (fused): 168 layers, 3006428 parameters, 0 gradients, 8.1 GFLOPs\n",
      "\u001b[34m\u001b[1mval: \u001b[0mScanning /Users/mariusoechslein/Documents/MyDocuments/Studium/Master/3d-par\u001b[0m\n",
      "                 Class     Images  Instances      Box(P          R      mAP50  m\n",
      "                   all         32         32      0.978      0.988      0.995      0.989\n",
      "  10_00_0125_0084a_v4a         32          8          1      0.954      0.995      0.971\n",
      "                  dst4         32          8      0.946          1      0.995      0.995\n",
      "           210216-4x20         32          8          1      0.997      0.995      0.995\n",
      "           210216-4x10         32          8      0.968          1      0.995      0.995\n",
      "Speed: 1.6ms preprocess, 97.3ms inference, 0.0ms loss, 1.0ms postprocess per image\n",
      "Results saved to \u001b[1mruns/detect/val4\u001b[0m\n"
     ]
    }
   ],
   "source": [
    "from ultralytics import YOLO\n",
    "\n",
    "# Load a model\n",
    "#model = YOLO(\"yolov8n.yaml\")  # build a new model from scratch\n",
    "model = YOLO(\"yolov8n.pt\")  # load a pretrained model (recommended for training)\n",
    "\n",
    "# Use the model\n",
    "model.train(data=\"config.yaml\", epochs=3)  # train the model\n",
    "metrics = model.val()  # evaluate model performance on the validation set\n",
    "\n",
    "#results = model(\"https://ultralytics.com/images/bus.jpg\")  # predict on an image\n",
    "#path = model.export(format=\"onnx\")  # export the model to ONNX format"
   ]
  },
  {
   "cell_type": "code",
   "execution_count": 11,
   "id": "de771429-5923-4748-9d80-48456096d090",
   "metadata": {},
   "outputs": [
    {
     "name": "stderr",
     "output_type": "stream",
     "text": [
      "Ultralytics YOLOv8.0.195 🚀 Python-3.11.5 torch-2.0.1 CPU (Intel Core(TM) i5-7360U 2.30GHz)\n",
      "\n",
      "\u001b[34m\u001b[1mPyTorch:\u001b[0m starting from 'runs/detect/train8/weights/best.pt' with input shape (1, 3, 640, 640) BCHW and output shape(s) (1, 8, 8400) (5.9 MB)\n",
      "\n",
      "\u001b[34m\u001b[1mONNX:\u001b[0m starting export with onnx 1.14.1 opset 17...\n",
      "\u001b[34m\u001b[1mONNX:\u001b[0m export success ✅ 1.1s, saved as 'runs/detect/train8/weights/best.onnx' (11.7 MB)\n",
      "\n",
      "Export complete (2.8s)\n",
      "Results saved to \u001b[1m/Users/mariusoechslein/Documents/MyDocuments/Studium/Master/3d-parts-project/3d_mai/notebooks/yolo_model/runs/detect/train8/weights\u001b[0m\n",
      "Predict:         yolo predict task=detect model=runs/detect/train8/weights/best.onnx imgsz=640  \n",
      "Validate:        yolo val task=detect model=runs/detect/train8/weights/best.onnx imgsz=640 data=config.yaml  \n",
      "Visualize:       https://netron.app\n"
     ]
    },
    {
     "name": "stdout",
     "output_type": "stream",
     "text": [
      "================ Diagnostic Run torch.onnx.export version 2.0.1 ================\n",
      "verbose: False, log level: Level.ERROR\n",
      "======================= 0 NONE 0 NOTE 0 WARNING 0 ERROR ========================\n",
      "\n"
     ]
    }
   ],
   "source": [
    "path = model.export(format=\"onnx\")"
   ]
  },
  {
   "cell_type": "markdown",
   "id": "17d568b0-1baa-4725-a09f-e826c554b2ed",
   "metadata": {},
   "source": [
    "# Testing"
   ]
  },
  {
   "cell_type": "code",
   "execution_count": null,
   "id": "1ef65764-a20b-4f9c-ac0a-18285ef53ef6",
   "metadata": {},
   "outputs": [],
   "source": []
  },
  {
   "cell_type": "code",
   "execution_count": null,
   "id": "2d215d2e-4a39-43f4-8193-f214cf51e0a0",
   "metadata": {},
   "outputs": [],
   "source": []
  }
 ],
 "metadata": {
  "kernelspec": {
   "display_name": "Python 3 (ipykernel)",
   "language": "python",
   "name": "python3"
  },
  "language_info": {
   "codemirror_mode": {
    "name": "ipython",
    "version": 3
   },
   "file_extension": ".py",
   "mimetype": "text/x-python",
   "name": "python",
   "nbconvert_exporter": "python",
   "pygments_lexer": "ipython3",
   "version": "3.11.5"
  }
 },
 "nbformat": 4,
 "nbformat_minor": 5
}
