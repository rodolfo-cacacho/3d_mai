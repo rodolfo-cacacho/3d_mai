{
 "cells": [
  {
   "cell_type": "code",
   "execution_count": 1,
   "metadata": {
    "id": "_5J1VwAIJSZ2"
   },
   "outputs": [],
   "source": [
    "import cv2\n",
    "import pandas as pd\n",
    "import numpy as np\n",
    "from os import walk\n",
    "from matplotlib import pyplot as plt\n",
    "import imutils"
   ]
  },
  {
   "cell_type": "markdown",
   "metadata": {},
   "source": [
    "# Preprocessing screenshots from 3D CAD models"
   ]
  },
  {
   "cell_type": "code",
   "execution_count": 40,
   "metadata": {
    "colab": {
     "base_uri": "https://localhost:8080/"
    },
    "id": "Da4TktnZJf7J",
    "outputId": "52156843-5cd2-4876-e38b-b0be7ea0b306"
   },
   "outputs": [],
   "source": [
    "CAD_SCREENSHOTS = \"/Users/mariusoechslein/Documents/MyDocuments/Studium/Master/3d-parts-project/3d_mai/data/raw_imgs_train/\""
   ]
  },
  {
   "cell_type": "code",
   "execution_count": 43,
   "metadata": {
    "colab": {
     "base_uri": "https://localhost:8080/",
     "height": 1000
    },
    "id": "u6sZlBhvJVst",
    "outputId": "e8b39af4-decb-4b8b-c34d-297cac2a93d6"
   },
   "outputs": [
    {
     "name": "stdout",
     "output_type": "stream",
     "text": [
      "Only .jpg accepted!\n"
     ]
    },
    {
     "ename": "NameError",
     "evalue": "name 'img' is not defined",
     "output_type": "error",
     "traceback": [
      "\u001b[0;31m---------------------------------------------------------------------------\u001b[0m",
      "\u001b[0;31mNameError\u001b[0m                                 Traceback (most recent call last)",
      "\u001b[1;32m/Users/mariusoechslein/Documents/MyDocuments/Studium/Master/3d-parts-project/3d_mai/notebooks/preprocessing.ipynb Cell 4\u001b[0m line \u001b[0;36m6\n\u001b[1;32m     <a href='vscode-notebook-cell:/Users/mariusoechslein/Documents/MyDocuments/Studium/Master/3d-parts-project/3d_mai/notebooks/preprocessing.ipynb#W3sZmlsZQ%3D%3D?line=61'>62</a>\u001b[0m                 cv2\u001b[39m.\u001b[39mimwrite(SAVING_PATH, image_resized)\n\u001b[1;32m     <a href='vscode-notebook-cell:/Users/mariusoechslein/Documents/MyDocuments/Studium/Master/3d-parts-project/3d_mai/notebooks/preprocessing.ipynb#W3sZmlsZQ%3D%3D?line=63'>64</a>\u001b[0m \u001b[39mprint\u001b[39m(\u001b[39m\"\u001b[39m\u001b[39mOnly .jpg accepted!\u001b[39m\u001b[39m\"\u001b[39m)\n\u001b[0;32m---> <a href='vscode-notebook-cell:/Users/mariusoechslein/Documents/MyDocuments/Studium/Master/3d-parts-project/3d_mai/notebooks/preprocessing.ipynb#W3sZmlsZQ%3D%3D?line=64'>65</a>\u001b[0m preprocess_cad_images(CAD_SCREENSHOTS)\n",
      "\u001b[1;32m/Users/mariusoechslein/Documents/MyDocuments/Studium/Master/3d-parts-project/3d_mai/notebooks/preprocessing.ipynb Cell 4\u001b[0m line \u001b[0;36m5\n\u001b[1;32m     <a href='vscode-notebook-cell:/Users/mariusoechslein/Documents/MyDocuments/Studium/Master/3d-parts-project/3d_mai/notebooks/preprocessing.ipynb#W3sZmlsZQ%3D%3D?line=49'>50</a>\u001b[0m     \u001b[39m#transpose_bounding_box(LABELS_FOLDER + file_name + \".txt\")\u001b[39;00m\n\u001b[1;32m     <a href='vscode-notebook-cell:/Users/mariusoechslein/Documents/MyDocuments/Studium/Master/3d-parts-project/3d_mai/notebooks/preprocessing.ipynb#W3sZmlsZQ%3D%3D?line=50'>51</a>\u001b[0m \n\u001b[1;32m     <a href='vscode-notebook-cell:/Users/mariusoechslein/Documents/MyDocuments/Studium/Master/3d-parts-project/3d_mai/notebooks/preprocessing.ipynb#W3sZmlsZQ%3D%3D?line=51'>52</a>\u001b[0m \u001b[39m# Calculate how much to crop to get from IPhone resolution to 16:9 aspect ratio\u001b[39;00m\n\u001b[1;32m     <a href='vscode-notebook-cell:/Users/mariusoechslein/Documents/MyDocuments/Studium/Master/3d-parts-project/3d_mai/notebooks/preprocessing.ipynb#W3sZmlsZQ%3D%3D?line=52'>53</a>\u001b[0m \u001b[39mif\u001b[39;00m img\u001b[39m.\u001b[39mshape[\u001b[39m0\u001b[39m] \u001b[39m/\u001b[39m img\u001b[39m.\u001b[39mshape[\u001b[39m1\u001b[39m] \u001b[39m!=\u001b[39m \u001b[39m0.5625\u001b[39m:\n\u001b[0;32m---> <a href='vscode-notebook-cell:/Users/mariusoechslein/Documents/MyDocuments/Studium/Master/3d-parts-project/3d_mai/notebooks/preprocessing.ipynb#W3sZmlsZQ%3D%3D?line=53'>54</a>\u001b[0m     new_x_start, new_x_end \u001b[39m=\u001b[39m calculate_cropping_indices(img\u001b[39m.\u001b[39;49mshape)\n\u001b[1;32m     <a href='vscode-notebook-cell:/Users/mariusoechslein/Documents/MyDocuments/Studium/Master/3d-parts-project/3d_mai/notebooks/preprocessing.ipynb#W3sZmlsZQ%3D%3D?line=54'>55</a>\u001b[0m     img \u001b[39m=\u001b[39m img[new_x_start:new_x_end, :]\n\u001b[1;32m     <a href='vscode-notebook-cell:/Users/mariusoechslein/Documents/MyDocuments/Studium/Master/3d-parts-project/3d_mai/notebooks/preprocessing.ipynb#W3sZmlsZQ%3D%3D?line=56'>57</a>\u001b[0m \u001b[39m# resize the image to a fixed size. Resize AFTER detecting the edges\u001b[39;00m\n",
      "\u001b[1;32m/Users/mariusoechslein/Documents/MyDocuments/Studium/Master/3d-parts-project/3d_mai/notebooks/preprocessing.ipynb Cell 4\u001b[0m line \u001b[0;36m6\n\u001b[1;32m      <a href='vscode-notebook-cell:/Users/mariusoechslein/Documents/MyDocuments/Studium/Master/3d-parts-project/3d_mai/notebooks/preprocessing.ipynb#W3sZmlsZQ%3D%3D?line=3'>4</a>\u001b[0m real_aspect_ratio \u001b[39m=\u001b[39m img_shape[\u001b[39m0\u001b[39m] \u001b[39m/\u001b[39m img_shape[\u001b[39m1\u001b[39m]\n\u001b[1;32m      <a href='vscode-notebook-cell:/Users/mariusoechslein/Documents/MyDocuments/Studium/Master/3d-parts-project/3d_mai/notebooks/preprocessing.ipynb#W3sZmlsZQ%3D%3D?line=4'>5</a>\u001b[0m goal_x \u001b[39m=\u001b[39m (\u001b[39m9\u001b[39m\u001b[39m/\u001b[39m\u001b[39m16\u001b[39m) \u001b[39m*\u001b[39m img_shape[\u001b[39m1\u001b[39m]\n\u001b[0;32m----> <a href='vscode-notebook-cell:/Users/mariusoechslein/Documents/MyDocuments/Studium/Master/3d-parts-project/3d_mai/notebooks/preprocessing.ipynb#W3sZmlsZQ%3D%3D?line=5'>6</a>\u001b[0m x_mid \u001b[39m=\u001b[39m img\u001b[39m.\u001b[39mshape[\u001b[39m0\u001b[39m] \u001b[39m/\u001b[39m \u001b[39m2\u001b[39m\n\u001b[1;32m      <a href='vscode-notebook-cell:/Users/mariusoechslein/Documents/MyDocuments/Studium/Master/3d-parts-project/3d_mai/notebooks/preprocessing.ipynb#W3sZmlsZQ%3D%3D?line=6'>7</a>\u001b[0m new_x_start \u001b[39m=\u001b[39m \u001b[39mint\u001b[39m(x_mid \u001b[39m-\u001b[39m (goal_x\u001b[39m/\u001b[39m\u001b[39m2\u001b[39m))\n\u001b[1;32m      <a href='vscode-notebook-cell:/Users/mariusoechslein/Documents/MyDocuments/Studium/Master/3d-parts-project/3d_mai/notebooks/preprocessing.ipynb#W3sZmlsZQ%3D%3D?line=7'>8</a>\u001b[0m new_x_end \u001b[39m=\u001b[39m \u001b[39mint\u001b[39m(x_mid \u001b[39m+\u001b[39m (goal_x\u001b[39m/\u001b[39m\u001b[39m2\u001b[39m))\n",
      "\u001b[0;31mNameError\u001b[0m: name 'img' is not defined"
     ]
    }
   ],
   "source": [
    "import os\n",
    "\n",
    "def calculate_cropping_indices(img_shape):\n",
    "    real_aspect_ratio = img_shape[0] / img_shape[1]\n",
    "    goal_x = (9/16) * img_shape[1]\n",
    "    x_mid = img_shape[0] / 2\n",
    "    new_x_start = int(x_mid - (goal_x/2))\n",
    "    new_x_end = int(x_mid + (goal_x/2))\n",
    "    return new_x_start, new_x_end\n",
    "\n",
    "def transpose_bounding_box(path):\n",
    "    label_file = open(path, \"r\")\n",
    "    label_line = label_file.read().split(\" \")\n",
    "    label_file.close()\n",
    "    label_file = open(path, \"w\")\n",
    "    label_line = \"\".join(str(x) + \" \" for x in [label_line[0], label_line[2], label_line[1], label_line[4], label_line[3]])\n",
    "    label_file.write(label_line)\n",
    "\n",
    "def preprocess_cad_images(CAD_SCREENSHOTS, TARGET_RESOLUTION=(400,225)): \n",
    "    IMAGES_FOLDER = CAD_SCREENSHOTS \n",
    "    #LABELS_FOLDER = CAD_SCREENSHOTS + \"labels\"\n",
    "    subdirs = [x[0] for x in os.walk(IMAGES_FOLDER)]\n",
    "    for subdir in subdirs:\n",
    "        files = os.walk(subdir).__next__()[2]\n",
    "        if (len(files) > 0):\n",
    "            for file in files:\n",
    "                file_name = file.split(\".\")[0]\n",
    "                image_name = os.path.join(subdir, file)\n",
    "                if image_name[-4:] != \".jpg\":\n",
    "                    continue\n",
    "            \n",
    "                image = cv2.imread(image_name)\n",
    "            \n",
    "                # Detect the contours\n",
    "                gray = cv2.bilateralFilter(image, 3, 5, 5)\n",
    "                edged = cv2.Canny(gray, 100, 200)\n",
    "                cnts = cv2.findContours(edged.copy(), cv2.RETR_TREE, cv2.CHAIN_APPROX_SIMPLE)\n",
    "                cnts = imutils.grab_contours(cnts)\n",
    "                img = cv2.cvtColor(edged, cv2.COLOR_GRAY2BGR)  #add this line\n",
    "                img = cv2.drawContours(img, cnts, -1, 255, 3)\n",
    "                #im_bw = cv2.threshold(img, 127, 255, cv2.THRESH_BINARY)[1]\n",
    "\n",
    "                # Somehow I'm not allowed to remove the last dimension. Stick with 3 dimensions for now...\n",
    "                img = img[:,:,0]\n",
    "                img = np.dstack((img, img, img))\n",
    "                \n",
    "                # Maybe Transpose the images since the IPhone doesn't have 1920x1080 resolutions\n",
    "                if img.shape[0] > img.shape[1]:\n",
    "                    img = img.T\n",
    "                    #transpose_bounding_box(LABELS_FOLDER + file_name + \".txt\")\n",
    "\n",
    "                # Calculate how much to crop to get from IPhone resolution to 16:9 aspect ratio\n",
    "                #if img.shape[0] / img.shape[1] != 0.5625:\n",
    "                    #new_x_start, new_x_end = calculate_cropping_indices(img.shape)\n",
    "                    #img = img[new_x_start:new_x_end, :]\n",
    "            \n",
    "                # resize the image to a fixed size. Resize AFTER detecting the edges\n",
    "                image_resized = cv2.resize(img, TARGET_RESOLUTION) # 800 x 450 = ratio of 1920 x 1080 downscaled\n",
    "            \n",
    "                SAVING_PATH = CAD_SCREENSHOTS + \"preprocessed/\" + file\n",
    "                # Save preprocessed real image to folder\n",
    "                cv2.imwrite(SAVING_PATH, image_resized)\n",
    "\n",
    "print(\"Only .jpg accepted!\")\n",
    "preprocess_cad_images(CAD_SCREENSHOTS)\n"
   ]
  },
  {
   "cell_type": "code",
   "execution_count": 46,
   "metadata": {},
   "outputs": [
    {
     "data": {
      "text/plain": [
       "(225, 400, 3)"
      ]
     },
     "execution_count": 46,
     "metadata": {},
     "output_type": "execute_result"
    }
   ],
   "source": [
    "loaded_image = cv2.imread(\"/Users/mariusoechslein/Documents/MyDocuments/Studium/Master/3d-parts-project/3d_mai/data/test/images/IMG_5990.jpeg\")\n",
    "loaded_image.shape"
   ]
  },
  {
   "cell_type": "code",
   "execution_count": null,
   "metadata": {},
   "outputs": [],
   "source": []
  },
  {
   "cell_type": "code",
   "execution_count": null,
   "metadata": {},
   "outputs": [],
   "source": []
  },
  {
   "cell_type": "markdown",
   "metadata": {},
   "source": [
    "# Preprocessing real images"
   ]
  },
  {
   "cell_type": "code",
   "execution_count": 44,
   "metadata": {
    "id": "wfzFCwv366ke"
   },
   "outputs": [],
   "source": [
    "FOLDER_REAL_IMAGES = \"/Users/mariusoechslein/Documents/MyDocuments/Studium/Master/3d-parts-project/3d_mai/data/test_images_raw/\"\n",
    "FOLDER_PREPROCESSED_REAL_IMAGES = \"/Users/mariusoechslein/Documents/MyDocuments/Studium/Master/3d-parts-project/3d_mai/data/test_images_raw/preprocessed/\""
   ]
  },
  {
   "cell_type": "code",
   "execution_count": 54,
   "metadata": {},
   "outputs": [
    {
     "name": "stdout",
     "output_type": "stream",
     "text": [
      "/Users/mariusoechslein/Documents/MyDocuments/Studium/Master/3d-parts-project/3d_mai/data/test_images_raw/.DS_Store\n"
     ]
    }
   ],
   "source": [
    "import os\n",
    "\n",
    "def calculate_cropping_indices(img_shape):\n",
    "    real_aspect_ratio = img_shape[0] / img_shape[1]\n",
    "    goal_x = (9/16) * img_shape[1]\n",
    "    x_mid = img_shape[0] / 2\n",
    "    new_x_start = int(x_mid - (goal_x/2))\n",
    "    new_x_end = int(x_mid + (goal_x/2))\n",
    "    return new_x_start, new_x_end\n",
    "\n",
    "def preprocess_real_images(INPUT_FOLDER_PATH, OUTPUT_FOLDER_PATH, TARGET_RESOLUTION=(400,225)): \n",
    "    IMAGES_FOLDER = INPUT_FOLDER_PATH \n",
    "    subdirs = [x[0] for x in os.walk(IMAGES_FOLDER)]\n",
    "    for subdir in subdirs:\n",
    "        files = os.walk(subdir).__next__()[2]\n",
    "        if (len(files) > 0):\n",
    "            for file in files:\n",
    "                image_name = os.path.join(subdir, file)\n",
    "                if image_name[-5:] != \".jpeg\":\n",
    "                    print(image_name)\n",
    "                    continue\n",
    "            \n",
    "                image = cv2.imread(image_name)\n",
    "\n",
    "                alpha = 1.5 # Contrast control (1.0-3.0)\n",
    "                beta = 30 # Brightness control (0-100)\n",
    "                image = cv2.convertScaleAbs(image, alpha=alpha, beta=beta)\n",
    "            \n",
    "                # Detect the contours\n",
    "                gray = cv2.bilateralFilter(image, 3, 5, 5)\n",
    "                edged = cv2.Canny(gray, 100, 200)\n",
    "                cnts = cv2.findContours(edged.copy(), cv2.RETR_TREE, cv2.CHAIN_APPROX_SIMPLE)\n",
    "                cnts = imutils.grab_contours(cnts)\n",
    "                img = cv2.cvtColor(edged, cv2.COLOR_GRAY2BGR)  #add this line\n",
    "                img = cv2.drawContours(img, cnts, -1, 255, 3)\n",
    "                #im_bw = cv2.threshold(img, 127, 255, cv2.THRESH_BINARY)[1]\n",
    "\n",
    "                # Maybe Transpose the images since the IPhone doesn't have 1920x1080 resolutions\n",
    "                #if img.shape[0] > img.shape[1]:\n",
    "                    #img = img.T\n",
    "\n",
    "                # Calculate how much to crop to get from IPhone resolution to 16:9 aspect ratio\n",
    "                if img.shape[0] / img.shape[1] != 0.5625:\n",
    "                    new_x_start, new_x_end = calculate_cropping_indices(img.shape)\n",
    "                    img = img[new_x_start:new_x_end, :]\n",
    "\n",
    "                # Somehow I'm not allowed to remove the last dimension. Stick with 3 dimensions for now...\n",
    "                img = img[:,:,0]\n",
    "                img = np.dstack((img, img, img))\n",
    "            \n",
    "                # resize the image to a fixed size. Resize AFTER detecting the edges\n",
    "                img = cv2.resize(img, TARGET_RESOLUTION) # 800 x 450 = ratio of 1920 x 1080 downscaled\n",
    "            \n",
    "                SAVING_PATH = OUTPUT_FOLDER_PATH + file\n",
    "                # Save preprocessed real image to folder\n",
    "\n",
    "                cv2.imwrite(SAVING_PATH, img)\n",
    "\n",
    "preprocess_real_images(FOLDER_REAL_IMAGES, FOLDER_PREPROCESSED_REAL_IMAGES, TARGET_RESOLUTION=(400,225))"
   ]
  },
  {
   "cell_type": "code",
   "execution_count": null,
   "metadata": {},
   "outputs": [],
   "source": []
  }
 ],
 "metadata": {
  "colab": {
   "provenance": []
  },
  "kernelspec": {
   "display_name": "Python 3 (ipykernel)",
   "language": "python",
   "name": "python3"
  },
  "language_info": {
   "codemirror_mode": {
    "name": "ipython",
    "version": 3
   },
   "file_extension": ".py",
   "mimetype": "text/x-python",
   "name": "python",
   "nbconvert_exporter": "python",
   "pygments_lexer": "ipython3",
   "version": "3.11.5"
  }
 },
 "nbformat": 4,
 "nbformat_minor": 4
}
