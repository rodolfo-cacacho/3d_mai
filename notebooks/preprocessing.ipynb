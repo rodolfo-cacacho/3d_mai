{
 "cells": [
  {
   "cell_type": "code",
   "execution_count": 28,
   "metadata": {
    "id": "_5J1VwAIJSZ2"
   },
   "outputs": [],
   "source": [
    "import cv2\n",
    "import pandas as pd\n",
    "import numpy as np\n",
    "from os import walk\n",
    "from matplotlib import pyplot as plt\n",
    "import imutils"
   ]
  },
  {
   "cell_type": "markdown",
   "metadata": {},
   "source": [
    "# Preprocessing screenshots from 3D CAD models"
   ]
  },
  {
   "cell_type": "code",
   "execution_count": 31,
   "metadata": {
    "colab": {
     "base_uri": "https://localhost:8080/"
    },
    "id": "Da4TktnZJf7J",
    "outputId": "52156843-5cd2-4876-e38b-b0be7ea0b306"
   },
   "outputs": [],
   "source": [
    "CAD_SCREENSHOTS = \"/Users/mariusoechslein/Documents/MyDocuments/Studium/Master/3d-parts-project/3d_mai/data/val/\""
   ]
  },
  {
   "cell_type": "code",
   "execution_count": 38,
   "metadata": {
    "colab": {
     "base_uri": "https://localhost:8080/",
     "height": 1000
    },
    "id": "u6sZlBhvJVst",
    "outputId": "e8b39af4-decb-4b8b-c34d-297cac2a93d6"
   },
   "outputs": [],
   "source": [
    "import os\n",
    "\n",
    "def calculate_cropping_indices(img_shape):\n",
    "    real_aspect_ratio = img_shape[0] / img_shape[1]\n",
    "    goal_x = (9/16) * img_shape[1]\n",
    "    x_mid = img.shape[0] / 2\n",
    "    new_x_start = int(x_mid - (goal_x/2))\n",
    "    new_x_end = int(x_mid + (goal_x/2))\n",
    "    return new_x_start, new_x_end\n",
    "\n",
    "def transpose_bounding_box(path):\n",
    "    label_file = open(path, \"r\")\n",
    "    label_line = label_file.read().split(\" \")\n",
    "    label_file.close()\n",
    "    label_file = open(path, \"w\")\n",
    "    label_line = \"\".join(str(x) + \" \" for x in [label_line[0], label_line[2], label_line[1], label_line[4], label_line[3]])\n",
    "    label_file.write(label_line)\n",
    "\n",
    "def preprocess_cad_images(CAD_SCREENSHOTS, TARGET_RESOLUTION=(400,225)): \n",
    "    IMAGES_FOLDER = CAD_SCREENSHOTS + \"images\"\n",
    "    LABELS_FOLDER = CAD_SCREENSHOTS + \"labels\"\n",
    "    subdirs = [x[0] for x in os.walk(IMAGES_FOLDER)]\n",
    "    for subdir in subdirs:\n",
    "        files = os.walk(subdir).__next__()[2]\n",
    "        if (len(files) > 0):\n",
    "            for file in files:\n",
    "                file_name = file.split(\".\")[0]\n",
    "                image_name = os.path.join(subdir, file)\n",
    "                if image_name[-4:] != \".jpg\":\n",
    "                    continue\n",
    "            \n",
    "                image = cv2.imread(image_name)\n",
    "            \n",
    "                # Detect the contours\n",
    "                gray = cv2.bilateralFilter(image, 3, 5, 5)\n",
    "                edged = cv2.Canny(gray, 100, 200)\n",
    "                cnts = cv2.findContours(edged.copy(), cv2.RETR_TREE, cv2.CHAIN_APPROX_SIMPLE)\n",
    "                cnts = imutils.grab_contours(cnts)\n",
    "                img = cv2.cvtColor(edged, cv2.COLOR_GRAY2BGR)  #add this line\n",
    "                img = cv2.drawContours(img, cnts, -1, 255, 3)\n",
    "                #im_bw = cv2.threshold(img, 127, 255, cv2.THRESH_BINARY)[1]\n",
    "                img = img[:,:,0]\n",
    "                \n",
    "                # Maybe Transpose the images since the IPhone doesn't have 1920x1080 resolutions\n",
    "                if img.shape[0] > img.shape[1]:\n",
    "                    img = img.T\n",
    "                    #transpose_bounding_box(LABELS_FOLDER + file_name + \".txt\")\n",
    "\n",
    "                # Calculate how much to crop to get from IPhone resolution to 16:9 aspect ratio\n",
    "                #if img.shape[0] / img.shape[1] != 0.5625:\n",
    "                    #new_x_start, new_x_end = calculate_cropping_indices(img.shape)\n",
    "                    #img = img[new_x_start:new_x_end, :]\n",
    "            \n",
    "                # resize the image to a fixed size. Resize AFTER detecting the edges\n",
    "                image_resized = cv2.resize(img, TARGET_RESOLUTION) # 800 x 450 = ratio of 1920 x 1080 downscaled\n",
    "            \n",
    "                SAVING_PATH = CAD_SCREENSHOTS + \"preprocessed/\" + file\n",
    "                # Save preprocessed real image to folder\n",
    "                cv2.imwrite(SAVING_PATH, image_resized)\n",
    "\n",
    "print(\"Only .jpg accepted!\")\n",
    "preprocess_cad_images(CAD_SCREENSHOTS)\n"
   ]
  },
  {
   "cell_type": "code",
   "execution_count": null,
   "metadata": {},
   "outputs": [],
   "source": []
  },
  {
   "cell_type": "markdown",
   "metadata": {},
   "source": [
    "# Preprocessing real images"
   ]
  },
  {
   "cell_type": "code",
   "execution_count": 21,
   "metadata": {
    "id": "wfzFCwv366ke"
   },
   "outputs": [],
   "source": [
    "FOLDER_REAL_IMAGES = \"/Users/mariusoechslein/Documents/MyDocuments/Studium/Master/3d-parts-project/3d_mai/data/test/images_raw/\"\n",
    "FOLDER_PREPROCESSED_REAL_IMAGES = \"/Users/mariusoechslein/Documents/MyDocuments/Studium/Master/3d-parts-project/3d_mai/data/test/images_preprocessed_contrast/\""
   ]
  },
  {
   "cell_type": "code",
   "execution_count": 24,
   "metadata": {},
   "outputs": [],
   "source": [
    "import os\n",
    "\n",
    "def calculate_cropping_indices(img_shape):\n",
    "    real_aspect_ratio = img_shape[0] / img_shape[1]\n",
    "    goal_x = (9/16) * img_shape[1]\n",
    "    x_mid = img_shape[0] / 2\n",
    "    new_x_start = int(x_mid - (goal_x/2))\n",
    "    new_x_end = int(x_mid + (goal_x/2))\n",
    "    return new_x_start, new_x_end\n",
    "\n",
    "def preprocess_real_images(INPUT_FOLDER_PATH, OUTPUT_FOLDER_PATH, TARGET_RESOLUTION=(400,225)): \n",
    "    IMAGES_FOLDER = INPUT_FOLDER_PATH \n",
    "    subdirs = [x[0] for x in os.walk(IMAGES_FOLDER)]\n",
    "    for subdir in subdirs:\n",
    "        files = os.walk(subdir).__next__()[2]\n",
    "        if (len(files) > 0):\n",
    "            for file in files:\n",
    "                file_name = file.split(\".\")[0]\n",
    "                image_name = os.path.join(subdir, file)\n",
    "            \n",
    "                image = cv2.imread(image_name)\n",
    "\n",
    "                alpha = 1.5 # Contrast control (1.0-3.0)\n",
    "                beta = 30 # Brightness control (0-100)\n",
    "                image = cv2.convertScaleAbs(image, alpha=alpha, beta=beta)\n",
    "            \n",
    "                # Detect the contours\n",
    "                gray = cv2.bilateralFilter(image, 3, 5, 5)\n",
    "                edged = cv2.Canny(gray, 100, 200)\n",
    "                cnts = cv2.findContours(edged.copy(), cv2.RETR_TREE, cv2.CHAIN_APPROX_SIMPLE)\n",
    "                cnts = imutils.grab_contours(cnts)\n",
    "                img = cv2.cvtColor(edged, cv2.COLOR_GRAY2BGR)  #add this line\n",
    "                img = cv2.drawContours(img, cnts, -1, 255, 3)\n",
    "                #im_bw = cv2.threshold(img, 127, 255, cv2.THRESH_BINARY)[1]\n",
    "                img = img[:,:,0]\n",
    "            \n",
    "                # Maybe Transpose the images since the IPhone doesn't have 1920x1080 resolutions\n",
    "                if img.shape[0] > img.shape[1]:\n",
    "                    img = img.T\n",
    "                # Calculate how much to crop to get from IPhone resolution to 16:9 aspect ratio\n",
    "                if img.shape[0] / img.shape[1] != 0.5625:\n",
    "                    new_x_start, new_x_end = calculate_cropping_indices(img.shape)\n",
    "                    img = img[new_x_start:new_x_end, :]\n",
    "            \n",
    "                # resize the image to a fixed size. Resize AFTER detecting the edges\n",
    "                image_resized = cv2.resize(img, TARGET_RESOLUTION) # 800 x 450 = ratio of 1920 x 1080 downscaled\n",
    "            \n",
    "                SAVING_PATH = OUTPUT_FOLDER_PATH + \"/\" + file\n",
    "                # Save preprocessed real image to folder\n",
    "\n",
    "                cv2.imwrite(SAVING_PATH, image_resized)\n",
    "\n",
    "preprocess_real_images(FOLDER_REAL_IMAGES, FOLDER_PREPROCESSED_REAL_IMAGES, TARGET_RESOLUTION=(400,225))"
   ]
  },
  {
   "cell_type": "code",
   "execution_count": null,
   "metadata": {},
   "outputs": [],
   "source": []
  }
 ],
 "metadata": {
  "colab": {
   "provenance": []
  },
  "kernelspec": {
   "display_name": "Python 3 (ipykernel)",
   "language": "python",
   "name": "python3"
  },
  "language_info": {
   "codemirror_mode": {
    "name": "ipython",
    "version": 3
   },
   "file_extension": ".py",
   "mimetype": "text/x-python",
   "name": "python",
   "nbconvert_exporter": "python",
   "pygments_lexer": "ipython3",
   "version": "3.11.5"
  }
 },
 "nbformat": 4,
 "nbformat_minor": 4
}
