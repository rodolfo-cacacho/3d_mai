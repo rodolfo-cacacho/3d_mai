{
 "cells": [
  {
   "cell_type": "code",
   "execution_count": 120,
   "metadata": {
    "id": "_5J1VwAIJSZ2"
   },
   "outputs": [],
   "source": [
    "import cv2\n",
    "import pandas as pd\n",
    "import numpy as np\n",
    "from os import walk\n",
    "from matplotlib import pyplot as plt\n",
    "import imutils"
   ]
  },
  {
   "cell_type": "markdown",
   "metadata": {},
   "source": [
    "# Preprocessing screenshots from 3D CAD models"
   ]
  },
  {
   "cell_type": "code",
   "execution_count": 122,
   "metadata": {
    "colab": {
     "base_uri": "https://localhost:8080/"
    },
    "id": "Da4TktnZJf7J",
    "outputId": "52156843-5cd2-4876-e38b-b0be7ea0b306"
   },
   "outputs": [],
   "source": [
    "CAD_SCREENSHOTS = \"/Users/mariusoechslein/Documents/MyDocuments/Studium/Master/3d-parts-project/3d_mai/data/train/\""
   ]
  },
  {
   "cell_type": "code",
   "execution_count": 123,
   "metadata": {
    "colab": {
     "base_uri": "https://localhost:8080/",
     "height": 1000
    },
    "id": "u6sZlBhvJVst",
    "outputId": "e8b39af4-decb-4b8b-c34d-297cac2a93d6"
   },
   "outputs": [
    {
     "ename": "KeyboardInterrupt",
     "evalue": "",
     "output_type": "error",
     "traceback": [
      "\u001b[0;31m---------------------------------------------------------------------------\u001b[0m",
      "\u001b[0;31mKeyboardInterrupt\u001b[0m                         Traceback (most recent call last)",
      "Cell \u001b[0;32mIn[123], line 59\u001b[0m\n\u001b[1;32m     56\u001b[0m                 \u001b[38;5;66;03m# Save preprocessed real image to folder\u001b[39;00m\n\u001b[1;32m     57\u001b[0m                 cv2\u001b[38;5;241m.\u001b[39mimwrite(SAVING_PATH, image_resized)\n\u001b[0;32m---> 59\u001b[0m \u001b[43mpreprocess_cad_images\u001b[49m\u001b[43m(\u001b[49m\u001b[43mCAD_SCREENSHOTS\u001b[49m\u001b[43m)\u001b[49m\n",
      "Cell \u001b[0;32mIn[123], line 37\u001b[0m, in \u001b[0;36mpreprocess_cad_images\u001b[0;34m(CAD_SCREENSHOTS, TARGET_RESOLUTION)\u001b[0m\n\u001b[1;32m     35\u001b[0m cnts \u001b[38;5;241m=\u001b[39m cv2\u001b[38;5;241m.\u001b[39mfindContours(edged\u001b[38;5;241m.\u001b[39mcopy(), cv2\u001b[38;5;241m.\u001b[39mRETR_TREE, cv2\u001b[38;5;241m.\u001b[39mCHAIN_APPROX_SIMPLE)\n\u001b[1;32m     36\u001b[0m cnts \u001b[38;5;241m=\u001b[39m imutils\u001b[38;5;241m.\u001b[39mgrab_contours(cnts)\n\u001b[0;32m---> 37\u001b[0m img \u001b[38;5;241m=\u001b[39m \u001b[43mcv2\u001b[49m\u001b[38;5;241;43m.\u001b[39;49m\u001b[43mcvtColor\u001b[49m\u001b[43m(\u001b[49m\u001b[43medged\u001b[49m\u001b[43m,\u001b[49m\u001b[43m \u001b[49m\u001b[43mcv2\u001b[49m\u001b[38;5;241;43m.\u001b[39;49m\u001b[43mCOLOR_GRAY2BGR\u001b[49m\u001b[43m)\u001b[49m  \u001b[38;5;66;03m#add this line\u001b[39;00m\n\u001b[1;32m     38\u001b[0m img \u001b[38;5;241m=\u001b[39m cv2\u001b[38;5;241m.\u001b[39mdrawContours(img, cnts, \u001b[38;5;241m-\u001b[39m\u001b[38;5;241m1\u001b[39m, \u001b[38;5;241m255\u001b[39m, \u001b[38;5;241m3\u001b[39m)\n\u001b[1;32m     39\u001b[0m \u001b[38;5;66;03m#im_bw = cv2.threshold(img, 127, 255, cv2.THRESH_BINARY)[1]\u001b[39;00m\n",
      "\u001b[0;31mKeyboardInterrupt\u001b[0m: "
     ]
    }
   ],
   "source": [
    "import os\n",
    "\n",
    "def calculate_cropping_indices(img_shape):\n",
    "    real_aspect_ratio = img_shape[0] / img_shape[1]\n",
    "    goal_x = (9/16) * img_shape[1]\n",
    "    x_mid = img.shape[0] / 2\n",
    "    new_x_start = int(x_mid - (goal_x/2))\n",
    "    new_x_end = int(x_mid + (goal_x/2))\n",
    "    return new_x_start, new_x_end\n",
    "\n",
    "def transpose_bounding_box(path):\n",
    "    label_file = open(path, \"r\")\n",
    "    label_line = label_file.read().split(\" \")\n",
    "    label_file.close()\n",
    "    label_file = open(path, \"w\")\n",
    "    label_line = \"\".join(str(x) + \" \" for x in [label_line[0], label_line[2], label_line[1], label_line[4], label_line[3]])\n",
    "    label_file.write(label_line)\n",
    "\n",
    "def preprocess_cad_images(CAD_SCREENSHOTS, TARGET_RESOLUTION=(400,225)): \n",
    "    IMAGES_FOLDER = CAD_SCREENSHOTS + \"images\"\n",
    "    LABELS_FOLDER = CAD_SCREENSHOTS + \"labels\"\n",
    "    subdirs = [x[0] for x in os.walk(IMAGES_FOLDER)]\n",
    "    for subdir in subdirs:\n",
    "        files = os.walk(subdir).__next__()[2]\n",
    "        if (len(files) > 0):\n",
    "            for file in files:\n",
    "                file_name = file.split(\".\")[0]\n",
    "                image_name = os.path.join(subdir, file)\n",
    "            \n",
    "                image = cv2.imread(image_name)\n",
    "            \n",
    "                # Detect the contours\n",
    "                gray = cv2.bilateralFilter(image, 3, 5, 5)\n",
    "                edged = cv2.Canny(gray, 100, 200)\n",
    "                cnts = cv2.findContours(edged.copy(), cv2.RETR_TREE, cv2.CHAIN_APPROX_SIMPLE)\n",
    "                cnts = imutils.grab_contours(cnts)\n",
    "                img = cv2.cvtColor(edged, cv2.COLOR_GRAY2BGR)  #add this line\n",
    "                img = cv2.drawContours(img, cnts, -1, 255, 3)\n",
    "                #im_bw = cv2.threshold(img, 127, 255, cv2.THRESH_BINARY)[1]\n",
    "                img = img[:,:,0]\n",
    "                \n",
    "                # Maybe Transpose the images since the IPhone doesn't have 1920x1080 resolutions\n",
    "                if img.shape[0] > img.shape[1]:\n",
    "                    img = img.T\n",
    "                    #transpose_bounding_box(LABELS_FOLDER + file_name + \".txt\")\n",
    "\n",
    "                # Calculate how much to crop to get from IPhone resolution to 16:9 aspect ratio\n",
    "                #if img.shape[0] / img.shape[1] != 0.5625:\n",
    "                    #new_x_start, new_x_end = calculate_cropping_indices(img.shape)\n",
    "                    #img = img[new_x_start:new_x_end, :]\n",
    "            \n",
    "                # resize the image to a fixed size. Resize AFTER detecting the edges\n",
    "                image_resized = cv2.resize(img, TARGET_RESOLUTION) # 800 x 450 = ratio of 1920 x 1080 downscaled\n",
    "            \n",
    "                SAVING_PATH = CAD_SCREENSHOTS + \"preprocessed/images/\" + file\n",
    "                # Save preprocessed real image to folder\n",
    "                cv2.imwrite(SAVING_PATH, image_resized)\n",
    "\n",
    "preprocess_cad_images(CAD_SCREENSHOTS)\n"
   ]
  },
  {
   "cell_type": "code",
   "execution_count": null,
   "metadata": {},
   "outputs": [],
   "source": []
  },
  {
   "cell_type": "markdown",
   "metadata": {},
   "source": [
    "# Preprocessing real images"
   ]
  },
  {
   "cell_type": "code",
   "execution_count": 98,
   "metadata": {
    "id": "wfzFCwv366ke"
   },
   "outputs": [],
   "source": [
    "FOLDER_REAL_IMAGES = \"/Users/mariusoechslein/Documents/MyDocuments/Studium/Master/3d-parts-project/3d_mai/data/val/\"\n",
    "FOLDER_PREPROCESSED_REAL_IMAGES = \"/Users/mariusoechslein/Documents/MyDocuments/Studium/Master/3d-parts-project/3d_mai/data/val/images_preprocessed/\""
   ]
  },
  {
   "cell_type": "code",
   "execution_count": 101,
   "metadata": {},
   "outputs": [
    {
     "name": "stdout",
     "output_type": "stream",
     "text": [
      "(225, 400)\n"
     ]
    }
   ],
   "source": [
    "import os\n",
    "\n",
    "def calculate_cropping_indices(img_shape):\n",
    "    real_aspect_ratio = img_shape[0] / img_shape[1]\n",
    "    goal_x = (9/16) * img_shape[1]\n",
    "    x_mid = img.shape[0] / 2\n",
    "    new_x_start = int(x_mid - (goal_x/2))\n",
    "    new_x_end = int(x_mid + (goal_x/2))\n",
    "    return new_x_start, new_x_end\n",
    "\n",
    "def preprocess_real_images(INPUT_FOLDER_PATH, OUTPUT_FOLDER_PATH, TARGET_RESOLUTION=(400,225)): \n",
    "    IMAGES_FOLDER = INPUT_FOLDER_PATH + \"images/\"\n",
    "    subdirs = [x[0] for x in os.walk(IMAGES_FOLDER)]\n",
    "    for subdir in subdirs:\n",
    "        files = os.walk(subdir).__next__()[2]\n",
    "        if (len(files) > 0):\n",
    "            for file in files:\n",
    "                file_name = file.split(\".\")[0]\n",
    "                image_name = os.path.join(subdir, file)\n",
    "            \n",
    "                image = cv2.imread(image_name)\n",
    "            \n",
    "                # Detect the contours\n",
    "                gray = cv2.bilateralFilter(image, 3, 5, 5)\n",
    "                edged = cv2.Canny(gray, 100, 200)\n",
    "                cnts = cv2.findContours(edged.copy(), cv2.RETR_TREE, cv2.CHAIN_APPROX_SIMPLE)\n",
    "                cnts = imutils.grab_contours(cnts)\n",
    "                img = cv2.cvtColor(edged, cv2.COLOR_GRAY2BGR)  #add this line\n",
    "                img = cv2.drawContours(img, cnts, -1, 255, 3)\n",
    "                #im_bw = cv2.threshold(img, 127, 255, cv2.THRESH_BINARY)[1]\n",
    "                img = img[:,:,0]\n",
    "            \n",
    "                # Maybe Transpose the images since the IPhone doesn't have 1920x1080 resolutions\n",
    "                if img.shape[0] > img.shape[1]:\n",
    "                    img = img.T\n",
    "                # Calculate how much to crop to get from IPhone resolution to 16:9 aspect ratio\n",
    "                if img.shape[0] / img.shape[1] != 0.5625:\n",
    "                    new_x_start, new_x_end = calculate_cropping_indices(img.shape)\n",
    "                    img = img[new_x_start:new_x_end, :]\n",
    "            \n",
    "                # resize the image to a fixed size. Resize AFTER detecting the edges\n",
    "                image_resized = cv2.resize(img, TARGET_RESOLUTION) # 800 x 450 = ratio of 1920 x 1080 downscaled\n",
    "            \n",
    "                SAVING_PATH = OUTPUT_FOLDER_PATH + \"/\" + file\n",
    "                # Save preprocessed real image to folder\n",
    "\n",
    "                cv2.imwrite(SAVING_PATH, image_resized)\n",
    "\n",
    "preprocess_real_images(FOLDER_REAL_IMAGES, FOLDER_PREPROCESSED_REAL_IMAGES, TARGET_RESOLUTION=(400,225))"
   ]
  },
  {
   "cell_type": "code",
   "execution_count": null,
   "metadata": {},
   "outputs": [],
   "source": []
  }
 ],
 "metadata": {
  "colab": {
   "provenance": []
  },
  "kernelspec": {
   "display_name": "Python 3 (ipykernel)",
   "language": "python",
   "name": "python3"
  },
  "language_info": {
   "codemirror_mode": {
    "name": "ipython",
    "version": 3
   },
   "file_extension": ".py",
   "mimetype": "text/x-python",
   "name": "python",
   "nbconvert_exporter": "python",
   "pygments_lexer": "ipython3",
   "version": "3.11.5"
  }
 },
 "nbformat": 4,
 "nbformat_minor": 4
}
