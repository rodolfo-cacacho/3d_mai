{
 "cells": [
  {
   "cell_type": "markdown",
   "metadata": {},
   "source": [
    "# Augmenting training images"
   ]
  },
  {
   "cell_type": "markdown",
   "metadata": {},
   "source": [
    "README: \n",
    "1. First run the \"overlaying_images.ipynb\"\n",
    "2. Create folder \"augmented\" and copy images and labels from the parent folder to there\n",
    "3. Then set the correct folders in the following cell\n",
    "4. Then just run all of the cells in this notebook. Can take around 20 minutes."
   ]
  },
  {
   "cell_type": "code",
   "execution_count": 5,
   "metadata": {},
   "outputs": [],
   "source": [
    "INPUT_FOLDER = \"/home/jetracer/Documents/3d_mai/data/train_threads_b/overlaying/augmented/images\"\n",
    "LABELS_FOLDER_PATH = \"/home/jetracer/Documents/3d_mai/data/train_threads_b/overlaying/augmented/labels\""
   ]
  },
  {
   "cell_type": "code",
   "execution_count": 1,
   "metadata": {},
   "outputs": [],
   "source": [
    "import os\n",
    "def get_files_in_subdirectories(folder_path, file_extension='', file_contains=''):\n",
    "    files = []\n",
    "    for root, directories, filenames in os.walk(folder_path):\n",
    "        for filename in filenames:\n",
    "            if file_extension == '' and file_contains == '':\n",
    "                files.append(os.path.join(root, filename))\n",
    "            elif file_extension != '' and file_contains == '':\n",
    "                if filename.endswith(file_extension):\n",
    "                    files.append(os.path.join(root, filename))\n",
    "            elif file_extension == '' and file_contains != '':\n",
    "                if file_contains in filename:\n",
    "                    files.append(os.path.join(root, filename))\n",
    "            else:\n",
    "                if file_contains in filename and filename.endswith(file_extension):\n",
    "                    files.append(os.path.join(root, filename))\n",
    "    return files"
   ]
  },
  {
   "cell_type": "code",
   "execution_count": 4,
   "metadata": {},
   "outputs": [],
   "source": [
    "import cv2\n",
    "import numpy as np\n",
    "import random\n",
    "import matplotlib.pyplot as plt\n",
    "\n",
    "\n",
    "def color_jitter(image, brightness=0.2, contrast=0.2, saturation=0.2, hue=0.1):\n",
    "    # Convert the image to the HSV color space\n",
    "    hsv = cv2.cvtColor(image, cv2.COLOR_BGR2HSV)\n",
    "\n",
    "    # Adjust brightness\n",
    "    hsv[:, :, 2] = np.clip(hsv[:, :, 2] * (1 + brightness), 0, 255)\n",
    "\n",
    "    # Adjust contrast\n",
    "    hsv[:, :, 1] = np.clip(hsv[:, :, 1] * (1 + contrast), 0, 255)\n",
    "\n",
    "    # Adjust saturation\n",
    "    hsv[:, :, 1] = np.clip(hsv[:, :, 1] * (1 + saturation), 0, 255)\n",
    "\n",
    "    # Adjust hue\n",
    "    hsv[:, :, 0] = (hsv[:, :, 0] + hue * 360) % 180\n",
    "\n",
    "    # Convert the image back to BGR\n",
    "    jittered_image = cv2.cvtColor(hsv, cv2.COLOR_HSV2BGR)\n",
    "\n",
    "    return jittered_image\n",
    "\n",
    "def apply_gaussian_blur(image, sigma=1.0):\n",
    "    # Apply Gaussian blur\n",
    "    blurred_image = cv2.GaussianBlur(image, (0, 0), sigma)\n",
    "\n",
    "    return blurred_image\n",
    "\n",
    "def apply_random_noise(image, mean=0, std=25):\n",
    "    # Generate random noise\n",
    "    noise = np.random.normal(mean, std, image.shape)\n",
    "\n",
    "    # Add noise to the image\n",
    "    noisy_image = np.clip(image + noise, 0, 255).astype(np.uint8)\n",
    "\n",
    "    return noisy_image\n",
    "\n",
    "def augment_image(image_path, output_path):\n",
    "    # Read the original image\n",
    "    image = cv2.imread(image_path)\n",
    "\n",
    "    # Apply color jittering\n",
    "    jittered_image = color_jitter(image)\n",
    "\n",
    "    # Apply Gaussian blur\n",
    "    blurred_image = apply_gaussian_blur(jittered_image)\n",
    "\n",
    "    # Apply random noise\n",
    "    noisy_image = apply_random_noise(blurred_image)\n",
    "\n",
    "    # Save the augmented image\n",
    "    cv2.imwrite(output_path, noisy_image)\n",
    "\n",
    "\n",
    "\n",
    "files_paths = get_files_in_subdirectories(INPUT_FOLDER, file_extension=\".png\")\n",
    "\n",
    "for file_path in files_paths:\n",
    "    output_filepath = file_path.replace(\"/images\", \"/augmented/images\")\n",
    "    output_filepath = output_filepath.replace(\".\", \"_augmented.\")\n",
    "    augment_image(file_path, output_filepath)"
   ]
  },
  {
   "cell_type": "markdown",
   "metadata": {},
   "source": [
    "### Watch out. Really quick. Don't run twice..."
   ]
  },
  {
   "cell_type": "code",
   "execution_count": 8,
   "metadata": {},
   "outputs": [
    {
     "name": "stdout",
     "output_type": "stream",
     "text": [
      "['24_augmented.txt', '9.txt', '78_augmented.txt', '413_augmented.txt', '317_augmented.txt', '143_augmented.txt', '170.txt', '425_augmented.txt', '402_augmented.txt', '461_augmented.txt', '396_augmented.txt', '257_augmented.txt', '330.txt', '406.txt', '216_augmented.txt', '211_augmented.txt', '451.txt', '138_augmented.txt', '204.txt', '179_augmented.txt', '243_augmented.txt', '294_augmented.txt', '99_augmented.txt', '27.txt', '233_augmented.txt', '102_augmented.txt', '415.txt', '282.txt', '22_augmented.txt', '308_augmented.txt', '75_augmented.txt', '337_augmented.txt', '58.txt', '193.txt', '85.txt', '214.txt', '309.txt', '401_augmented.txt', '13_augmented.txt', '305_augmented.txt', '361_augmented.txt', '319_augmented.txt', '249_augmented.txt', '419_augmented.txt', '272_augmented.txt', '36_augmented.txt', '56_augmented.txt', '381_augmented.txt', '454_augmented.txt', '310_augmented.txt', '205.txt', '268.txt', '343.txt', '123_augmented.txt', '237_augmented.txt', '198.txt', '140.txt', '109_augmented.txt', '49_augmented.txt', '40.txt', '404_augmented.txt', '466_augmented.txt', '59.txt', '111.txt', '428_augmented.txt', '7.txt', '69.txt', '91_augmented.txt', '344.txt', '122_augmented.txt', '111_augmented.txt', '31.txt', '104_augmented.txt', '232.txt', '96_augmented.txt', '108.txt', '209_augmented.txt', '22.txt', '389.txt', '382.txt', '23_augmented.txt', '146_augmented.txt', '417_augmented.txt', '67_augmented.txt', '77.txt', '17_augmented.txt', '84_augmented.txt', '383.txt', '86_augmented.txt', '238_augmented.txt', '300_augmented.txt', '391.txt', '286_augmented.txt', '72_augmented.txt', '64_augmented.txt', '312.txt', '462_augmented.txt', '56.txt', '48.txt', '24.txt', '418.txt', '374.txt', '41.txt', '39.txt', '234.txt', '262_augmented.txt', '381.txt', '457_augmented.txt', '379_augmented.txt', '53.txt', '441_augmented.txt', '427.txt', '386.txt', '277.txt', '203.txt', '389_augmented.txt', '107.txt', '130.txt', '437.txt', '41_augmented.txt', '166_augmented.txt', '382_augmented.txt', '439.txt', '124.txt', '356_augmented.txt', '444_augmented.txt', '325_augmented.txt', '280_augmented.txt', '141_augmented.txt', '10.txt', '440.txt', '299_augmented.txt', '377.txt', '300.txt', '372.txt', '347_augmented.txt', '424_augmented.txt', '412.txt', '198_augmented.txt', '311.txt', '90.txt', '403_augmented.txt', '261_augmented.txt', '132_augmented.txt', '420.txt', '152_augmented.txt', '215_augmented.txt', '31_augmented.txt', '283.txt', '390.txt', '108_augmented.txt', '119_augmented.txt', '126_augmented.txt', '169_augmented.txt', '63_augmented.txt', '159_augmented.txt', '385_augmented.txt', '244.txt', '397_augmented.txt', '37_augmented.txt', '294.txt', '35.txt', '196_augmented.txt', '453_augmented.txt', '44_augmented.txt', '51.txt', '355.txt', '159.txt', '399.txt', '416_augmented.txt', '61_augmented.txt', '410_augmented.txt', '149.txt', '216.txt', '239.txt', '25_augmented.txt', '369_augmented.txt', '27_augmented.txt', '113.txt', '287_augmented.txt', '465.txt', '322_augmented.txt', '411_augmented.txt', '384.txt', '156.txt', '338.txt', '55.txt', '370.txt', '314.txt', '374_augmented.txt', '154.txt', '467.txt', '23.txt', '174.txt', '103.txt', '170_augmented.txt', '164.txt', '98.txt', '462.txt', '333_augmented.txt', '134_augmented.txt', '436_augmented.txt', '271.txt', '137.txt', '266_augmented.txt', '363.txt', '339.txt', '157.txt', '288.txt', '117_augmented.txt', '211.txt', '301.txt', '240_augmented.txt', '238.txt', '205_augmented.txt', '413.txt', '60.txt', '33_augmented.txt', '245.txt', '292_augmented.txt', '292.txt', '66_augmented.txt', '447_augmented.txt', '326.txt', '203_augmented.txt', '51_augmented.txt', '17.txt', '468_augmented.txt', '200.txt', '368.txt', '76_augmented.txt', '21.txt', '257.txt', '14_augmented.txt', '34.txt', '353_augmented.txt', '140_augmented.txt', '13.txt', '99.txt', '155.txt', '366.txt', '93_augmented.txt', '421_augmented.txt', '212_augmented.txt', '319.txt', '183_augmented.txt', '145_augmented.txt', '58_augmented.txt', '396.txt', '49.txt', '37.txt', '33.txt', '412_augmented.txt', '231.txt', '277_augmented.txt', '52_augmented.txt', '258.txt', '268_augmented.txt', '89_augmented.txt', '468.txt', '273_augmented.txt', '171_augmented.txt', '454.txt', '89.txt', '181_augmented.txt', '19_augmented.txt', '237.txt', '236_augmented.txt', '309_augmented.txt', '444.txt', '128.txt', '322.txt', '135_augmented.txt', '315.txt', '299.txt', '427_augmented.txt', '449_augmented.txt', '54.txt', '350_augmented.txt', '360_augmented.txt', '359.txt', '453.txt', '346_augmented.txt', '297_augmented.txt', '221.txt', '215.txt', '222_augmented.txt', '373_augmented.txt', '124_augmented.txt', '119.txt', '45_augmented.txt', '368_augmented.txt', '106_augmented.txt', '7_augmented.txt', '201_augmented.txt', '47_augmented.txt', '28_augmented.txt', '46.txt', '120.txt', '71.txt', '223_augmented.txt', '369.txt', '161_augmented.txt', '151_augmented.txt', '83.txt', '146.txt', '105.txt', '102.txt', '113_augmented.txt', '336.txt', '178.txt', '362.txt', '172.txt', '436.txt', '352_augmented.txt', '386_augmented.txt', '189.txt', '97_augmented.txt', '331.txt', '67.txt', '406_augmented.txt', '297.txt', '136_augmented.txt', '431_augmented.txt', '281_augmented.txt', '74.txt', '158_augmented.txt', '264_augmented.txt', '90_augmented.txt', '378.txt', '458.txt', '71_augmented.txt', '204_augmented.txt', '456.txt', '348_augmented.txt', '435.txt', '293_augmented.txt', '55_augmented.txt', '443.txt', '411.txt', '101_augmented.txt', '443_augmented.txt', '21_augmented.txt', '47.txt', '305.txt', '11_augmented.txt', '280.txt', '83_augmented.txt', '252.txt', '18.txt', '169.txt', '133.txt', '127_augmented.txt', '133_augmented.txt', '183.txt', '230.txt', '234_augmented.txt', '357_augmented.txt', '445.txt', '73_augmented.txt', '2_augmented.txt', '176_augmented.txt', '144_augmented.txt', '420_augmented.txt', '165_augmented.txt', '331_augmented.txt', '5_augmented.txt', '94_augmented.txt', '125_augmented.txt', '74_augmented.txt', '350.txt', '110.txt', '323_augmented.txt', '405_augmented.txt', '304_augmented.txt', '244_augmented.txt', '206_augmented.txt', '29.txt', '68_augmented.txt', '351_augmented.txt', '279.txt', '4_augmented.txt', '45.txt', '442_augmented.txt', '455.txt', '302_augmented.txt', '315_augmented.txt', '255_augmented.txt', '201.txt', '316_augmented.txt', '179.txt', '338_augmented.txt', '172_augmented.txt', '54_augmented.txt', '101.txt', '423_augmented.txt', '404.txt', '197_augmented.txt', '11.txt', '115.txt', '283_augmented.txt', '449.txt', '107_augmented.txt', '208.txt', '391_augmented.txt', '272.txt', '448.txt', '329_augmented.txt', '312_augmented.txt', '12.txt', '364_augmented.txt', '220_augmented.txt', '221_augmented.txt', '258_augmented.txt', '209.txt', '434_augmented.txt', '147_augmented.txt', '116.txt', '308.txt', '342_augmented.txt', '278.txt', '267_augmented.txt', '78.txt', '191_augmented.txt', '250_augmented.txt', '367_augmented.txt', '377_augmented.txt', '335_augmented.txt', '334.txt', '178_augmented.txt', '357.txt', '332_augmented.txt', '104.txt', '354.txt', '320.txt', '145.txt', '441.txt', '394.txt', '86.txt', '128_augmented.txt', '79.txt', '313.txt', '400_augmented.txt', '70.txt', '248_augmented.txt', '194.txt', '213.txt', '285.txt', '450_augmented.txt', '344_augmented.txt', '219.txt', '87_augmented.txt', '10_augmented.txt', '349_augmented.txt', '80_augmented.txt', '452.txt', '387_augmented.txt', '35_augmented.txt', '253.txt', '316.txt', '217.txt', '433_augmented.txt', '243.txt', '186_augmented.txt', '20_augmented.txt', '428.txt', '155_augmented.txt', '163.txt', '414.txt', '214_augmented.txt', '452_augmented.txt', '296_augmented.txt', '336_augmented.txt', '245_augmented.txt', '408.txt', '303_augmented.txt', '36.txt', '464_augmented.txt', '19.txt', '181.txt', '167.txt', '92.txt', '207.txt', '251_augmented.txt', '273.txt', '426_augmented.txt', '177.txt', '260.txt', '289.txt', '429.txt', '402.txt', '28.txt', '241.txt', '459_augmented.txt', '167_augmented.txt', '150.txt', '118.txt', '384_augmented.txt', '301_augmented.txt', '194_augmented.txt', '328_augmented.txt', '324.txt', '62_augmented.txt', '219_augmented.txt', '81.txt', '353.txt', '328.txt', '149_augmented.txt', '285_augmented.txt', '425.txt', '126.txt', '460.txt', '378_augmented.txt', '88_augmented.txt', '213_augmented.txt', '53_augmented.txt', '15.txt', '326_augmented.txt', '16_augmented.txt', '263_augmented.txt', '246.txt', '114.txt', '337.txt', '388_augmented.txt', '355_augmented.txt', '445_augmented.txt', '1.txt', '356.txt', '32.txt', '276.txt', '254_augmented.txt', '314_augmented.txt', '306.txt', '419.txt', '242.txt', '131_augmented.txt', '398_augmented.txt', '160_augmented.txt', '43_augmented.txt', '12_augmented.txt', '432_augmented.txt', '109.txt', '298_augmented.txt', '429_augmented.txt', '52.txt', '348.txt', '335.txt', '317.txt', '117.txt', '50.txt', '463.txt', '8.txt', '327.txt', '400.txt', '289_augmented.txt', '66.txt', '186.txt', '100.txt', '77_augmented.txt', '227.txt', '409_augmented.txt', '298.txt', '379.txt', '218.txt', '18_augmented.txt', '458_augmented.txt', '57_augmented.txt', '275.txt', '233.txt', '241_augmented.txt', '385.txt', '129_augmented.txt', '417.txt', '105_augmented.txt', '279_augmented.txt', '372_augmented.txt', '199.txt', '286.txt', '333.txt', '456_augmented.txt', '100_augmented.txt', '274_augmented.txt', '409.txt', '271_augmented.txt', '446.txt', '361.txt', '192_augmented.txt', '95.txt', '422_augmented.txt', '3.txt', '288_augmented.txt', '94.txt', '184.txt', '440_augmented.txt', '340.txt', '122.txt', '84.txt', '235_augmented.txt', '190.txt', '224_augmented.txt', '46_augmented.txt', '180.txt', '42_augmented.txt', '15_augmented.txt', '208_augmented.txt', '197.txt', '465_augmented.txt', '57.txt', '173.txt', '303.txt', '207_augmented.txt', '259_augmented.txt', '352.txt', '261.txt', '265_augmented.txt', '6_augmented.txt', '63.txt', '414_augmented.txt', '321_augmented.txt', '256.txt', '120_augmented.txt', '392_augmented.txt', '310.txt', '375_augmented.txt', '340_augmented.txt', '380_augmented.txt', '383_augmented.txt', '306_augmented.txt', '42.txt', '3_augmented.txt', '141.txt', '266.txt', '263.txt', '135.txt', '199_augmented.txt', '132.txt', '321.txt', '16.txt', '295.txt', '98_augmented.txt', '415_augmented.txt', '437_augmented.txt', '48_augmented.txt', '121_augmented.txt', '153.txt', '240.txt', '307.txt', '177_augmented.txt', '196.txt', '106.txt', '110_augmented.txt', '339_augmented.txt', '200_augmented.txt', '320_augmented.txt', '457.txt', '25.txt', '173_augmented.txt', '184_augmented.txt', '432.txt', '231_augmented.txt', '114_augmented.txt', '388.txt', '341.txt', '376_augmented.txt', '156_augmented.txt', '351.txt', '180_augmented.txt', '166.txt', '187.txt', '38_augmented.txt', '143.txt', '189_augmented.txt', '134.txt', '434.txt', '461.txt', '76.txt', '313_augmented.txt', '1_augmented.txt', '365.txt', '93.txt', '325.txt', '304.txt', '62.txt', '26.txt', '330_augmented.txt', '442.txt', '438_augmented.txt', '275_augmented.txt', '87.txt', '232_augmented.txt', '222.txt', '59_augmented.txt', '91.txt', '168.txt', '65_augmented.txt', '334_augmented.txt', '394_augmented.txt', '96.txt', '103_augmented.txt', '239_augmented.txt', '151.txt', '39_augmented.txt', '349.txt', '29_augmented.txt', '430.txt', '38.txt', '393.txt', '287.txt', '438.txt', '408_augmented.txt', '157_augmented.txt', '176.txt', '269_augmented.txt', '401.txt', '318_augmented.txt', '366_augmented.txt', '129.txt', '97.txt', '435_augmented.txt', '210_augmented.txt', '387.txt', '390_augmented.txt', '254.txt', '191.txt', '14.txt', '64.txt', '343_augmented.txt', '376.txt', '68.txt', '450.txt', '302.txt', '158.txt', '112.txt', '69_augmented.txt', '230_augmented.txt', '163_augmented.txt', '174_augmented.txt', '148.txt', '362_augmented.txt', '26_augmented.txt', '227_augmented.txt', '284.txt', '364.txt', '2.txt', '278_augmented.txt', '9_augmented.txt', '147.txt', '125.txt', '466.txt', '318.txt', '182.txt', '447.txt', '70_augmented.txt', '32_augmented.txt', '168_augmented.txt', '324_augmented.txt', '229_augmented.txt', '403.txt', '290_augmented.txt', '92_augmented.txt', '407_augmented.txt', '284_augmented.txt', '446_augmented.txt', '195_augmented.txt', '395.txt', '195.txt', '256_augmented.txt', '236.txt', '61.txt', '371_augmented.txt', '270_augmented.txt', '95_augmented.txt', '225.txt', '228.txt', '342.txt', '162.txt', '311_augmented.txt', '290.txt', '459.txt', '34_augmented.txt', '60_augmented.txt', '464.txt', '423.txt', '433.txt', '451_augmented.txt', '448_augmented.txt', '144.txt', '370_augmented.txt', '154_augmented.txt', '260_augmented.txt', '393_augmented.txt', '112_augmented.txt', '192.txt', '150_augmented.txt', '250.txt', '139_augmented.txt', '115_augmented.txt', '259.txt', '79_augmented.txt', '293.txt', '137_augmented.txt', '131.txt', '467_augmented.txt', '359_augmented.txt', '276_augmented.txt', '138.txt', '6.txt', '463_augmented.txt', '247_augmented.txt', '190_augmented.txt', '153_augmented.txt', '375.txt', '291_augmented.txt', '202_augmented.txt', '345.txt', '363_augmented.txt', '187_augmented.txt', '188.txt', '82.txt', '341_augmented.txt', '127.txt', '255.txt', '224.txt', '85_augmented.txt', '407.txt', '123.txt', '421.txt', '43.txt', '175.txt', '360.txt', '418_augmented.txt', '65.txt', '422.txt', '251.txt', '160.txt', '40_augmented.txt', '426.txt', '175_augmented.txt', '0_augmented.txt', '44.txt', '296.txt', '439_augmented.txt', '327_augmented.txt', '161.txt', '399_augmented.txt', '188_augmented.txt', '82_augmented.txt', '282_augmented.txt', '430_augmented.txt', '431.txt', '202.txt', '358.txt', '249.txt', '345_augmented.txt', '405.txt', '455_augmented.txt', '267.txt', '242_augmented.txt', '281.txt', '5.txt', '148_augmented.txt', '460_augmented.txt', '392.txt', '30_augmented.txt', '217_augmented.txt', '8_augmented.txt', '346.txt', '171.txt', '323.txt', '329.txt', '121.txt', '226_augmented.txt', '398.txt', '252_augmented.txt', '130_augmented.txt', '265.txt', '247.txt', '142.txt', '30.txt', '235.txt', '210.txt', '367.txt', '358_augmented.txt', '354_augmented.txt', '193_augmented.txt', '397.txt', '206.txt', '0.txt', '72.txt', '371.txt', '218_augmented.txt', '80.txt', '246_augmented.txt', '162_augmented.txt', '410.txt', '136.txt', '185.txt', '262.txt', '75.txt', '416.txt', '307_augmented.txt', '182_augmented.txt', '229.txt', '291.txt', '88.txt', '185_augmented.txt', '380.txt', '332.txt', '226.txt', '116_augmented.txt', '50_augmented.txt', '152.txt', '142_augmented.txt', '118_augmented.txt', '395_augmented.txt', '424.txt', '225_augmented.txt', '73.txt', '220.txt', '347.txt', '253_augmented.txt', '270.txt', '20.txt', '165.txt', '365_augmented.txt', '295_augmented.txt', '248.txt', '373.txt', '264.txt', '269.txt', '164_augmented.txt', '228_augmented.txt', '212.txt', '139.txt', '4.txt', '81_augmented.txt', '223.txt', '274.txt']\n"
     ]
    }
   ],
   "source": [
    "import shutil\n",
    "# Duplicate all label files and add _augmented to the filename\n",
    "# List all files in the folder\n",
    "files = os.listdir(LABELS_FOLDER_PATH)\n",
    "\n",
    "# Filter only TXT files\n",
    "txt_files = [file for file in files if file.lower().endswith(\".txt\")]\n",
    "\n",
    "# Duplicate and rename each TXT file\n",
    "for txt_file in txt_files:\n",
    "    original_path = os.path.join(LABELS_FOLDER_PATH, txt_file)\n",
    "\n",
    "    # Create a new file name with \"_augmented\" suffix\n",
    "    new_name, extension = os.path.splitext(txt_file)\n",
    "    new_name += \"_augmented\" + extension\n",
    "\n",
    "    # Create the new path\n",
    "    new_path = os.path.join(LABELS_FOLDER_PATH, new_name)\n",
    "\n",
    "    # Duplicate the TXT file\n",
    "    shutil.copy(original_path, new_path)"
   ]
  },
  {
   "cell_type": "code",
   "execution_count": null,
   "metadata": {},
   "outputs": [],
   "source": []
  },
  {
   "cell_type": "code",
   "execution_count": null,
   "metadata": {},
   "outputs": [],
   "source": []
  }
 ],
 "metadata": {
  "kernelspec": {
   "display_name": "3d_mai",
   "language": "python",
   "name": "python3"
  },
  "language_info": {
   "codemirror_mode": {
    "name": "ipython",
    "version": 3
   },
   "file_extension": ".py",
   "mimetype": "text/x-python",
   "name": "python",
   "nbconvert_exporter": "python",
   "pygments_lexer": "ipython3",
   "version": "3.10.13"
  }
 },
 "nbformat": 4,
 "nbformat_minor": 2
}
