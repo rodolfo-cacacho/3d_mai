{
 "cells": [
  {
   "cell_type": "markdown",
   "metadata": {},
   "source": [
    "# Augmenting training images"
   ]
  },
  {
   "cell_type": "markdown",
   "metadata": {},
   "source": [
    "README: \n",
    "1. First run the \"overlaying_images.ipynb\"\n",
    "2. Create folder \"augmented\" and copy images and labels from the parent folder to there\n",
    "3. Then set the correct folders in the following cell\n",
    "4. Then just run all of the cells in this notebook. Can take around 20 minutes."
   ]
  },
  {
   "cell_type": "code",
   "execution_count": 11,
   "metadata": {},
   "outputs": [],
   "source": [
    "# Note: Copy original images folder to this folder. The augmented images will then be added to this folder also.\n",
    "INPUT_IMAGES_FOLDER = \"/home/jetracer/Documents/3d_mai/data/train_threads_b/object_train_val/validation/images\"\n",
    "\n",
    "# Note: Should be the \"augmented/labels\" folder. Watch out that it isn't the labels folder of the orignal images.\n",
    "DUPLICATE_LABELS_FOLDER_PATH = \"/home/jetracer/Documents/3d_mai/data/train_threads_b/object_train_val/validation/labels\"\n",
    "\n",
    "# Note: The final number of training images will then be num(original images) + 4*num(orginal images). Because original images are kept.\n",
    "NUM_OF_AUGMENTED_IMAGES = 1"
   ]
  },
  {
   "cell_type": "code",
   "execution_count": 5,
   "metadata": {},
   "outputs": [],
   "source": [
    "import os\n",
    "def get_files_in_subdirectories(folder_path, file_extension='', file_contains=''):\n",
    "    files = []\n",
    "    for root, directories, filenames in os.walk(folder_path):\n",
    "        for filename in filenames:\n",
    "            if file_extension == '' and file_contains == '':\n",
    "                files.append(os.path.join(root, filename))\n",
    "            elif file_extension != '' and file_contains == '':\n",
    "                if filename.endswith(file_extension):\n",
    "                    files.append(os.path.join(root, filename))\n",
    "            elif file_extension == '' and file_contains != '':\n",
    "                if file_contains in filename:\n",
    "                    files.append(os.path.join(root, filename))\n",
    "            else:\n",
    "                if file_contains in filename and filename.endswith(file_extension):\n",
    "                    files.append(os.path.join(root, filename))\n",
    "    return files"
   ]
  },
  {
   "cell_type": "code",
   "execution_count": 7,
   "metadata": {},
   "outputs": [],
   "source": [
    "import cv2\n",
    "import numpy as np\n",
    "import random\n",
    "import matplotlib.pyplot as plt\n",
    "\n",
    "\n",
    "def color_jitter(image, brightness=0.2, contrast=0.2, saturation=0.2, hue=0.1):\n",
    "    # Convert the image to the HSV color space\n",
    "    hsv = cv2.cvtColor(image, cv2.COLOR_BGR2HSV)\n",
    "\n",
    "    # Adjust brightness\n",
    "    hsv[:, :, 2] = np.clip(hsv[:, :, 2] * (1 + brightness), 0, 255)\n",
    "\n",
    "    # Adjust contrast\n",
    "    hsv[:, :, 1] = np.clip(hsv[:, :, 1] * (1 + contrast), 0, 255)\n",
    "\n",
    "    # Adjust saturation\n",
    "    hsv[:, :, 1] = np.clip(hsv[:, :, 1] * (1 + saturation), 0, 255)\n",
    "\n",
    "    # Adjust hue\n",
    "    hsv[:, :, 0] = (hsv[:, :, 0] + hue * 360) % 180\n",
    "\n",
    "    # Convert the image back to BGR\n",
    "    jittered_image = cv2.cvtColor(hsv, cv2.COLOR_HSV2BGR)\n",
    "\n",
    "    return jittered_image\n",
    "\n",
    "def apply_gaussian_blur(image, sigma=0.3):\n",
    "    # Apply Gaussian blur\n",
    "    blurred_image = cv2.GaussianBlur(image, (0, 0), sigma)\n",
    "\n",
    "    return blurred_image\n",
    "\n",
    "def apply_random_noise(image, mean=0, std=45):\n",
    "    # Generate random noise\n",
    "    noise = np.random.normal(mean, std, image.shape)\n",
    "\n",
    "    # Add noise to the image\n",
    "    noisy_image = np.clip(image + 0.25*noise, 0, 255).astype(np.uint8)\n",
    "\n",
    "    return noisy_image\n",
    "\n",
    "def augment_image(image_path, output_path):\n",
    "    # Read the original image\n",
    "    image = cv2.imread(image_path)\n",
    "\n",
    "    # Apply color jittering\n",
    "    jittered_image = color_jitter(image)\n",
    "\n",
    "    # Apply Gaussian blur\n",
    "    blurred_image = apply_gaussian_blur(jittered_image)\n",
    "\n",
    "    # Apply random noise\n",
    "    noisy_image = apply_random_noise(blurred_image)\n",
    "\n",
    "    # Save the augmented image\n",
    "    cv2.imwrite(output_path, noisy_image)\n",
    "\n",
    "\n",
    "files_paths = get_files_in_subdirectories(INPUT_IMAGES_FOLDER, file_extension=\".png\")\n",
    "for file_path in files_paths:\n",
    "    #print(\"augmenting...:\", file_path)\n",
    "    for i in range(NUM_OF_AUGMENTED_IMAGES):\n",
    "        output_filepath = file_path # Since augmented images are added to copied original images.\n",
    "        output_filepath = output_filepath.replace(\".\", \"_augmented_\" + str(i+1) + \".\")\n",
    "        augment_image(file_path, output_filepath)\n",
    "\n",
    "# TODO: Shuffle the folder images"
   ]
  },
  {
   "cell_type": "code",
   "execution_count": null,
   "metadata": {},
   "outputs": [],
   "source": []
  },
  {
   "cell_type": "code",
   "execution_count": null,
   "metadata": {},
   "outputs": [],
   "source": []
  },
  {
   "cell_type": "markdown",
   "metadata": {},
   "source": [
    "### Watch out. Really quick. Don't run twice..."
   ]
  },
  {
   "cell_type": "code",
   "execution_count": 12,
   "metadata": {},
   "outputs": [],
   "source": [
    "import shutil\n",
    "# Duplicate all label files and add _augmented to the filename\n",
    "# List all files in the folder\n",
    "files = os.listdir(DUPLICATE_LABELS_FOLDER_PATH + \"/\")\n",
    "\n",
    "# Filter only TXT files\n",
    "txt_files = [file for file in files if file.lower().endswith(\".txt\")]\n",
    "\n",
    "# Duplicate and rename each TXT file\n",
    "for txt_file in txt_files:\n",
    "    if \"_augmented\" in txt_file:\n",
    "        print(\"Already run before!\")\n",
    "        break \n",
    "    \n",
    "    original_path = os.path.join(DUPLICATE_LABELS_FOLDER_PATH, txt_file)\n",
    "\n",
    "    for i in range(NUM_OF_AUGMENTED_IMAGES):    \n",
    "        # Create a new file name with \"_augmented\" suffix\n",
    "        new_name, extension = os.path.splitext(txt_file)\n",
    "        new_name += \"_augmented_\" + str(i+1) + extension\n",
    "\n",
    "        # Create the new path\n",
    "        new_path = os.path.join(DUPLICATE_LABELS_FOLDER_PATH, new_name)\n",
    "\n",
    "        # Duplicate the TXT file\n",
    "        shutil.copy(original_path, new_path)"
   ]
  },
  {
   "cell_type": "code",
   "execution_count": null,
   "metadata": {},
   "outputs": [],
   "source": []
  },
  {
   "cell_type": "code",
   "execution_count": 13,
   "metadata": {},
   "outputs": [],
   "source": [
    "# Remove images and label files without \"_augmented\" in the file name\n",
    "\n",
    "import os\n",
    "\n",
    "def delete_files_without_keyword(folder_path, keyword=\"_augmented\"):\n",
    "    for filename in os.listdir(folder_path):\n",
    "        file_path = os.path.join(folder_path, filename)\n",
    "        \n",
    "        # Check if the keyword is not present in the file name\n",
    "        if keyword not in filename:\n",
    "            try:\n",
    "                os.remove(file_path)\n",
    "                #print(f\"Deleted: {filename}\")\n",
    "            except Exception as e:\n",
    "                print(f\"Error deleting {filename}: {e}\")\n",
    "\n",
    "if __name__ == \"__main__\":\n",
    "    # From images folder\n",
    "    delete_files_without_keyword(DUPLICATE_LABELS_FOLDER_PATH + \"/\")\n",
    "\n",
    "    # From labels folder\n",
    "    delete_files_without_keyword(INPUT_IMAGES_FOLDER)\n"
   ]
  },
  {
   "cell_type": "code",
   "execution_count": null,
   "metadata": {},
   "outputs": [],
   "source": []
  }
 ],
 "metadata": {
  "kernelspec": {
   "display_name": "3d_mai",
   "language": "python",
   "name": "python3"
  },
  "language_info": {
   "codemirror_mode": {
    "name": "ipython",
    "version": 3
   },
   "file_extension": ".py",
   "mimetype": "text/x-python",
   "name": "python",
   "nbconvert_exporter": "python",
   "pygments_lexer": "ipython3",
   "version": "3.10.13"
  }
 },
 "nbformat": 4,
 "nbformat_minor": 2
}
