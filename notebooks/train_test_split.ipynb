{
 "cells": [
  {
   "cell_type": "markdown",
   "metadata": {},
   "source": [
    "# Train test split\n",
    "\n",
    "Take images and labels folder and turn it into train/ and val/ folders."
   ]
  },
  {
   "cell_type": "code",
   "execution_count": 16,
   "metadata": {},
   "outputs": [],
   "source": [
    "path_imgs = \"/home/jetracer/Documents/3d_mai/data/train_threads_b/overlaying/images\"\n",
    "path_train_val = \"/home/jetracer/Documents/3d_mai/data/train_threads_b/overlaying/train_val_split/\""
   ]
  },
  {
   "cell_type": "code",
   "execution_count": 17,
   "metadata": {},
   "outputs": [],
   "source": [
    "unique_classes = ['dst4', 'm4_10mm', 'din125_m4', 'm4_20mm', 'asy_m4_nut_screw_10mm']"
   ]
  },
  {
   "cell_type": "code",
   "execution_count": 18,
   "metadata": {},
   "outputs": [],
   "source": [
    "import os\n",
    "def delete_and_create_folder(folder_path, subdirectories=None):\n",
    "    try:\n",
    "        # Check if the folder exists\n",
    "        if os.path.exists(folder_path):\n",
    "            # Delete existing folder and its contents\n",
    "            for root, dirs, files in os.walk(folder_path, topdown=False):\n",
    "                for file_name in files:\n",
    "                    file_path = os.path.join(root, file_name)\n",
    "                    os.remove(file_path)\n",
    "                for dir_name in dirs:\n",
    "                    dir_path = os.path.join(root, dir_name)\n",
    "                    os.rmdir(dir_path)\n",
    "            os.rmdir(folder_path)\n",
    "            # print(f\"Existing folder '{folder_path}' deleted successfully.\")\n",
    "\n",
    "        # Create a new empty folder\n",
    "        os.makedirs(folder_path)\n",
    "        # print(f\"New empty folder '{folder_path}' created successfully.\")\n",
    "\n",
    "        # Create subdirectories if specified\n",
    "        if subdirectories:\n",
    "            for subdirectory_info in subdirectories:\n",
    "                subdirectory_name = subdirectory_info[\"name\"]\n",
    "                subdirectory_path = os.path.join(folder_path, subdirectory_name)\n",
    "                os.makedirs(subdirectory_path)\n",
    "                # print(f\"Subdirectory '{subdirectory_path}' created.\")\n",
    "\n",
    "                # Recursively create nested subdirectories\n",
    "                nested_subdirectories = subdirectory_info.get(\"subdirectories\", [])\n",
    "                if nested_subdirectories:\n",
    "                    nested_path = subdirectory_path\n",
    "                    delete_and_create_folder(nested_path, nested_subdirectories)\n",
    "    except OSError as e:\n",
    "        print(f\"Error: {folder_path} - {e.strerror}\")\n",
    "\n",
    "def copy_file(source_file, destination_directory):\n",
    "    try:\n",
    "        # Ensure the destination directory exists\n",
    "        os.makedirs(destination_directory, exist_ok=True)\n",
    "\n",
    "        # Extract the file name from the source file path\n",
    "        file_name = os.path.basename(source_file)\n",
    "\n",
    "        # Create the destination file path\n",
    "        destination_file = os.path.join(destination_directory, file_name)\n",
    "\n",
    "        # Copy the file\n",
    "        with open(source_file, 'rb') as source, open(destination_file, 'wb') as destination:\n",
    "            destination.write(source.read())\n",
    "\n",
    "        print(f\"File '{source_file}' copied to '{destination_file}' successfully.\")\n",
    "    except IOError as e:\n",
    "        print(f\"Error: {e}\")"
   ]
  },
  {
   "cell_type": "code",
   "execution_count": 19,
   "metadata": {},
   "outputs": [],
   "source": [
    "import os\n",
    "def get_files_in_subdirectories(folder_path, file_extension='', file_contains=''):\n",
    "    files = []\n",
    "    for root, directories, filenames in os.walk(folder_path):\n",
    "        for filename in filenames:\n",
    "            if file_extension == '' and file_contains == '':\n",
    "                files.append(os.path.join(root, filename))\n",
    "            elif file_extension != '' and file_contains == '':\n",
    "                if filename.endswith(file_extension):\n",
    "                    files.append(os.path.join(root, filename))\n",
    "            elif file_extension == '' and file_contains != '':\n",
    "                if file_contains in filename:\n",
    "                    files.append(os.path.join(root, filename))\n",
    "            else:\n",
    "                if file_contains in filename and filename.endswith(file_extension):\n",
    "                    files.append(os.path.join(root, filename))\n",
    "    return files\n",
    "\n",
    "import random\n",
    "def create_binary_list(n, percentage_of_ones):\n",
    "    if percentage_of_ones < 0 or percentage_of_ones > 100:\n",
    "        raise ValueError(\"Percentage_of_ones must be between 0 and 100\")\n",
    "\n",
    "    num_ones = int(n * (percentage_of_ones / 100))\n",
    "    num_zeros = n - num_ones\n",
    "\n",
    "    binary_list = [1] * num_ones + [0] * num_zeros\n",
    "    random.shuffle(binary_list)\n",
    "\n",
    "    return binary_list"
   ]
  },
  {
   "cell_type": "code",
   "execution_count": null,
   "metadata": {},
   "outputs": [],
   "source": []
  },
  {
   "cell_type": "code",
   "execution_count": null,
   "metadata": {},
   "outputs": [],
   "source": [
    "\n",
    "\n",
    "images = get_files_in_subdirectories(path_imgs,'.png')\n",
    "subdirs = ['train','validation']\n",
    "# Example usage with nested subdirectories\n",
    "subdirs = [\n",
    "    {\"name\": \"train\", \"subdirectories\": [{\"name\": \"images\"}, {\"name\": \"labels\"}]},\n",
    "    {\"name\": \"validation\", \"subdirectories\": [{\"name\": \"images\"}, {\"name\": \"labels\"}]}\n",
    "]\n",
    "delete_and_create_folder(path_train_val,subdirs)\n",
    "percentage_train = 80\n",
    "\n",
    "images_search = [file for file in images] # if class_obj in file]\n",
    "train_val = create_binary_list(len(images_search),percentage_train)\n",
    "train = 0\n",
    "for index_i,image in enumerate(images_search):\n",
    "    path_label = image.replace('images','labels').replace('png','txt')\n",
    "    if(train_val[index_i] == 1): #training\n",
    "        path_save_image = path_train_val+'train/images'\n",
    "        path_save_label = path_train_val+'train/labels'\n",
    "    else: # validation\n",
    "        path_save_image = path_train_val+'validation/images'\n",
    "        path_save_label = path_train_val+'validation/labels'\n",
    "    #print(train_val[index_i])\n",
    "    #print(image)\n",
    "    #print(path_label)\n",
    "    #print(path_save_image)\n",
    "    #print(path_save_label)\n",
    "    copy_file(image, path_save_image)\n",
    "    copy_file(path_label, path_save_label)\n",
    "    train += train_val[index_i]\n",
    "print(f'train i {train} percentage {100*train/len(images_search)}')\n",
    "    # print(f'test {train_val[index_i]} class: {class_obj} image: {image}')"
   ]
  },
  {
   "cell_type": "code",
   "execution_count": null,
   "metadata": {},
   "outputs": [],
   "source": []
  }
 ],
 "metadata": {
  "kernelspec": {
   "display_name": "3d_mai",
   "language": "python",
   "name": "python3"
  },
  "language_info": {
   "codemirror_mode": {
    "name": "ipython",
    "version": 3
   },
   "file_extension": ".py",
   "mimetype": "text/x-python",
   "name": "python",
   "nbconvert_exporter": "python",
   "pygments_lexer": "ipython3",
   "version": "3.10.13"
  }
 },
 "nbformat": 4,
 "nbformat_minor": 2
}
