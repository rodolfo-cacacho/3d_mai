{
 "cells": [
  {
   "cell_type": "markdown",
   "metadata": {},
   "source": [
    "# Util: Remove assembly class from labels\n",
    "\n",
    "Note: This is only used once for removing the assembly class from the labels, since the assembly class interferes the prediction of the screw-small.\n",
    "They are very similar bounding boxes, which 'fucks up' the prediction evaluation, since the evaluation is done with IOU."
   ]
  },
  {
   "cell_type": "code",
   "execution_count": 7,
   "metadata": {},
   "outputs": [],
   "source": [
    "# Note: this is the labels folder, where all of the assembly (4) class should be removed from\n",
    "LABELS_FOLDER = \"/home/jetracer/Documents/3d_mai/data/train_threads_b/overlaying/train_val_split/val/labels\"\n",
    "\n",
    "# Note: Which class should be removed from all .txt label files\n",
    "REMOVE_CLASS = \"4\""
   ]
  },
  {
   "cell_type": "code",
   "execution_count": 8,
   "metadata": {},
   "outputs": [],
   "source": [
    "import shutil\n",
    "import os\n",
    "# Duplicate all label files and add _augmented to the filename\n",
    "# List all files in the folder\n",
    "files = os.listdir(LABELS_FOLDER)\n",
    "\n",
    "# Filter only TXT files\n",
    "txt_files = [file for file in files if file.lower().endswith(\".txt\")]\n",
    "\n",
    "# Duplicate and rename each TXT file\n",
    "for txt_file in txt_files:\n",
    "    full_path = LABELS_FOLDER + \"/\" + txt_file\n",
    "\n",
    "    with open(full_path, 'r') as file:\n",
    "        lines = file.readlines()\n",
    "\n",
    "    # Remove lines starting with the specified prefix\n",
    "    modified_lines = [line for line in lines if not line.startswith(REMOVE_CLASS)]\n",
    "\n",
    "    with open(full_path, 'w') as file:\n",
    "        file.writelines(modified_lines)"
   ]
  },
  {
   "cell_type": "code",
   "execution_count": null,
   "metadata": {},
   "outputs": [],
   "source": []
  },
  {
   "cell_type": "code",
   "execution_count": null,
   "metadata": {},
   "outputs": [],
   "source": []
  },
  {
   "cell_type": "code",
   "execution_count": null,
   "metadata": {},
   "outputs": [],
   "source": []
  }
 ],
 "metadata": {
  "kernelspec": {
   "display_name": "3d_mai",
   "language": "python",
   "name": "python3"
  },
  "language_info": {
   "codemirror_mode": {
    "name": "ipython",
    "version": 3
   },
   "file_extension": ".py",
   "mimetype": "text/x-python",
   "name": "python",
   "nbconvert_exporter": "python",
   "pygments_lexer": "ipython3",
   "version": "3.10.13"
  }
 },
 "nbformat": 4,
 "nbformat_minor": 2
}
